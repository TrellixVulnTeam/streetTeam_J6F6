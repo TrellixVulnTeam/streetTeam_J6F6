{
 "cells": [
  {
   "cell_type": "code",
   "execution_count": 15,
   "id": "bacd747b",
   "metadata": {},
   "outputs": [],
   "source": [
    "from selenium import webdriver\n",
    "from selenium.webdriver.chrome.options import Options\n",
    "from bs4 import BeautifulSoup as BS\n",
    "\n",
    "import time as Time\n",
    "import re\n",
    "from dateutil.parser import parse\n",
    "import datetime\n",
    "import os\n",
    "import json\n",
    "'''import OhmicityShared'''\n",
    "\n",
    "#For keyboard key programmatic control\n",
    "from selenium.webdriver.common.keys import Keys\n",
    "from webdriver_manager.chrome import ChromeDriverManager\n",
    "from selenium.webdriver.common.by import By\n",
    "from selenium.webdriver.support.ui import WebDriverWait\n",
    "from selenium.webdriver.support import expected_conditions as EC\n"
   ]
  },
  {
   "cell_type": "code",
   "execution_count": 16,
   "id": "7bb1b49a",
   "metadata": {},
   "outputs": [],
   "source": [
    "#Properties\n",
    "url = \"https://calendar.google.com/calendar/u/0/r\"\n",
    "page_source_array = []\n",
    "time = Time\n",
    "date_string = ''\n",
    "venue_array = []\n",
    "ex_array = [\n",
    "    'Witch', 'Tampa Bay National Wildlife', 'Closed', 'CLOSED', 'closed', 'Sunday', 'Holiday',\n",
    "    'Trivia', 'TRIVIA', 'Axe Throwing', \"Magic Monday\", 'Comedy', 'Yoga', 'Festival',\n",
    "    'Beer Stein', 'Private', 'Birthday', 'Drag', 'Christmas', '8AM BREAKFAST', '$',\n",
    "    'INDUSTRY NITE', \"Captain's Rummer Wed\", \"GIRLS NIGHT OUT\", 'Bingo', 'NFL',\n",
    "    'MUSIC HALL', 'New World', 'CLOSED', 'Jugglin', 'Video Night', 'Karaoke', 'KARAOKE', 'TBD',\n",
    "    'Murder Mystery', 'FOOTBALL', 'tentative', 'BRUNCH with Live Music', 'tribute', 'DJ', \"GIRL'S NIGHT OUT\",\n",
    "    'presented', \"Presented\", 'Pool'\n",
    "]"
   ]
  },
  {
   "cell_type": "code",
   "execution_count": 17,
   "id": "3c3129c0",
   "metadata": {},
   "outputs": [
    {
     "name": "stderr",
     "output_type": "stream",
     "text": [
      "\n",
      "\n",
      "====== WebDriver manager ======\n",
      "Current google-chrome version is 98.0.4758\n",
      "Get LATEST chromedriver version for 98.0.4758 google-chrome\n",
      "Driver [/Users/nathanhedgeman/.wdm/drivers/chromedriver/mac64/98.0.4758.80/chromedriver] found in cache\n",
      "/var/folders/qj/lf30psn544jbkxz0g333d31m0000gn/T/ipykernel_40345/1106951310.py:1: DeprecationWarning: executable_path has been deprecated, please pass in a Service object\n",
      "  driver = webdriver.Chrome(ChromeDriverManager().install())\n"
     ]
    }
   ],
   "source": [
    "driver = webdriver.Chrome(ChromeDriverManager().install())\n",
    "driver.get(url)\n",
    "\n",
    "    "
   ]
  },
  {
   "cell_type": "markdown",
   "id": "49909611",
   "metadata": {},
   "source": [
    "Put in email address"
   ]
  },
  {
   "cell_type": "code",
   "execution_count": 18,
   "id": "cdd002d9",
   "metadata": {},
   "outputs": [
    {
     "name": "stderr",
     "output_type": "stream",
     "text": [
      "/var/folders/qj/lf30psn544jbkxz0g333d31m0000gn/T/ipykernel_40345/3719219770.py:3: DeprecationWarning: find_element_by_* commands are deprecated. Please use find_element() instead\n",
      "  email_login = driver.find_element_by_xpath('//*[@id=\"identifierId\"]')\n",
      "/var/folders/qj/lf30psn544jbkxz0g333d31m0000gn/T/ipykernel_40345/3719219770.py:5: DeprecationWarning: find_element_by_* commands are deprecated. Please use find_element() instead\n",
      "  next_button_1 = driver.find_element_by_xpath('//*[@id=\"identifierNext\"]/div/button').click()\n"
     ]
    }
   ],
   "source": [
    "Time.sleep(3)\n",
    "email = 'f2ftestbench@gmail.com'\n",
    "email_login = driver.find_element_by_xpath('//*[@id=\"identifierId\"]')\n",
    "email_login.send_keys(email)\n",
    "next_button_1 = driver.find_element_by_xpath('//*[@id=\"identifierNext\"]/div/button').click()\n",
    "\n"
   ]
  },
  {
   "cell_type": "markdown",
   "id": "06816767",
   "metadata": {},
   "source": [
    "Put in password"
   ]
  },
  {
   "cell_type": "code",
   "execution_count": 19,
   "id": "c8315cf4",
   "metadata": {},
   "outputs": [
    {
     "name": "stderr",
     "output_type": "stream",
     "text": [
      "/var/folders/qj/lf30psn544jbkxz0g333d31m0000gn/T/ipykernel_40345/2291341289.py:3: DeprecationWarning: find_element_by_* commands are deprecated. Please use find_element() instead\n",
      "  password_text_field = driver.find_element_by_xpath('//*[@id=\"password\"]/div[1]/div/div[1]/input')\n",
      "/var/folders/qj/lf30psn544jbkxz0g333d31m0000gn/T/ipykernel_40345/2291341289.py:5: DeprecationWarning: find_element_by_* commands are deprecated. Please use find_element() instead\n",
      "  next_button_2 = driver.find_element_by_xpath('//*[@id=\"passwordNext\"]/div/button').click()\n"
     ]
    }
   ],
   "source": [
    "Time.sleep(3)\n",
    "password = '12908874.'\n",
    "password_text_field = driver.find_element_by_xpath('//*[@id=\"password\"]/div[1]/div/div[1]/input')\n",
    "password_text_field.send_keys(password)\n",
    "next_button_2 = driver.find_element_by_xpath('//*[@id=\"passwordNext\"]/div/button').click()\n",
    "    "
   ]
  },
  {
   "cell_type": "markdown",
   "id": "43f505bd",
   "metadata": {},
   "source": [
    "Get Page Sources"
   ]
  },
  {
   "cell_type": "code",
   "execution_count": 21,
   "id": "865cf6a3",
   "metadata": {},
   "outputs": [
    {
     "name": "stderr",
     "output_type": "stream",
     "text": [
      "/var/folders/qj/lf30psn544jbkxz0g333d31m0000gn/T/ipykernel_40345/3543251270.py:1: DeprecationWarning: find_element_by_* commands are deprecated. Please use find_element() instead\n",
      "  mattisons_city = driver.find_element_by_xpath('//*[@id=\"tkQpTb\"]/div/div[10]/li/label/div[1]/div/div')\n"
     ]
    }
   ],
   "source": [
    "mattisons_city = driver.find_element_by_xpath('//*[@id=\"tkQpTb\"]/div/div[10]/li/label/div[1]/div/div')\n",
    "mattisons_city.click()\n",
    "Time.sleep(2)\n",
    "mattisons_city_html = driver.page_source\n",
    "page_source_array.append(mattisons_city_html)\n",
    "Time.sleep(2)\n",
    "driver.quit()"
   ]
  },
  {
   "cell_type": "code",
   "execution_count": 22,
   "id": "7d858776",
   "metadata": {},
   "outputs": [],
   "source": [
    "def run(venue_source, venue_name):\n",
    "    shows_array = []\n",
    "    soup = BS(venue_source, 'lxml')\n",
    "    days = soup.find_all('div', role ='rowgroup')\n",
    "\n",
    "    for day in days:\n",
    "        holder_date = day.find('div', role = 'link')\n",
    "        if holder_date == None:\n",
    "            continue\n",
    "        event_date = holder_date['aria-label']\n",
    "    \n",
    "        date = event_date.strip(', today'); ''' !!!!!GOT DATE!!!!! '''\n",
    "        \n",
    "        event_discriptions = day.find_all('div', role ='row')\n",
    "        for x in event_discriptions:\n",
    "            name = x.find('div', role = 'button')\n",
    "\n",
    "            if name == None:\n",
    "                continue\n",
    "\n",
    "            '''Green Iguana FIX'''\n",
    "            if name.text == ' band': \n",
    "                continue\n",
    "\n",
    "            \n",
    "            '''!!!!!FILTER!!!!!!'''\n",
    "            if any([x in name.text for x in ex_array]): \n",
    "                continue\n",
    "            \n",
    "            else:\n",
    "                pres = x.find('div', role = 'presentation')\n",
    "                raw_time = pres.find('div', role = 'gridcell')\n",
    "                start_time = raw_time.text.split(sep=' ', maxsplit=1)[0]\n",
    "                \n",
    "                if 'pm' in start_time:\n",
    "                    final_time = start_time\n",
    "\n",
    "                elif 'am' in start_time:\n",
    "                    final_time = start_time\n",
    "                \n",
    "                else:\n",
    "                    final_time = start_time + 'pm'\n",
    "\n",
    "                if 'All' in final_time:\n",
    "                    final_time = '7pm'\n",
    "                              \n",
    "                show_date = date + \" \" + final_time\n",
    "\n",
    "                band_name = ''\n",
    "                split_name1 = name.text.split(sep=' |', maxsplit=1)[0]\n",
    "                split_name1 = split_name1.split(sep=' @', maxsplit=1)[0]\n",
    "                \n",
    "                try:\n",
    "                    '''Bahi Hut FIX'''\n",
    "                    split_name1 = split_name1.split(sep='Music: ', maxsplit=1)[1]\n",
    "                except:\n",
    "                    pass\n",
    "                \n",
    "                split_name1 = split_name1.split(sep=' solo: ', maxsplit=1)[0]\n",
    "                split_name2 = ''\n",
    "                \n",
    "                if split_name1 == None:\n",
    "                    split_name2 = name.text.split(sep=' |', maxsplit=1)[0]\n",
    "                    plit_name2 = split_name2.text.split(sep=' @', maxsplit=1)[0]\n",
    "                    \n",
    "                    try:\n",
    "                        '''Bahi Hut FIX'''\n",
    "                        split_name2 = split_name2.split(sep='Music: ', maxsplit=1)[1] \n",
    "                    except:\n",
    "                        pass\n",
    "                    \n",
    "                    split_name2 = split_name2.split(sep=' solo: ', maxsplit=1)[0]\n",
    "                    band_name = split_name2\n",
    "                else:\n",
    "                    band_name = split_name1\n",
    "\n",
    "                if ' \"Himself\"' in band_name:\n",
    "                    band_name = band_name.replace(' \"Himself\"', '')\n",
    "\n",
    "                this_time = parse(show_date)\n",
    "                date_string = '{:%b %d, %Y %-I:%M%p}'.format(this_time)\n",
    "\n",
    "                try:\n",
    "                    showDict = {}\n",
    "                    showDict['band'] = band_name\n",
    "                    showDict['dateString'] = date_string\n",
    "                    shows_array.append(showDict)\n",
    "\n",
    "                except AttributeError as ex:\n",
    "                    print('Error', ex)\n",
    "\n",
    "     #Export as JSON\n",
    "    shows = {}\n",
    "    shows['shows'] = shows_array\n",
    "\n",
    "    #Save To json file\n",
    "    save_path = '/Volumes/Work/Face2Face/Xity/streetTeam/Scrappers/Show Data/Venue Data'\n",
    "    '''save_path = OhmicityShared.ohmicity_shared.venue_data_path'''\n",
    "\n",
    "    file_name = venue_name + '.json'\n",
    "    complete_name = os.path.join(save_path, file_name)\n",
    "\n",
    "    file = open(complete_name, 'w')\n",
    "    file.write(json.dumps(shows, indent = 2))\n",
    "    file.close()\n",
    "    print(f\"{venue_name} Complete!\")"
   ]
  },
  {
   "cell_type": "code",
   "execution_count": 23,
   "id": "ab3c3277",
   "metadata": {},
   "outputs": [
    {
     "name": "stdout",
     "output_type": "stream",
     "text": [
      "Mattison's City Grille Complete!\n"
     ]
    }
   ],
   "source": [
    "run(mattisons_city_html, \"Mattison's City Grille\")"
   ]
  }
 ],
 "metadata": {
  "interpreter": {
   "hash": "53258a41d29b011a261b631d05e665c4bf68087cfc6dcd67900a11497b4e4907"
  },
  "kernelspec": {
   "display_name": "Python 3.8.8 64-bit (conda)",
   "name": "python3"
  },
  "language_info": {
   "codemirror_mode": {
    "name": "ipython",
    "version": 3
   },
   "file_extension": ".py",
   "mimetype": "text/x-python",
   "name": "python",
   "nbconvert_exporter": "python",
   "pygments_lexer": "ipython3",
   "version": "3.10.1"
  }
 },
 "nbformat": 4,
 "nbformat_minor": 5
}
