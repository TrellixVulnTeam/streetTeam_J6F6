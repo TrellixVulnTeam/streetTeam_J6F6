{
 "cells": [
  {
   "cell_type": "code",
   "execution_count": 15,
   "metadata": {},
   "outputs": [],
   "source": [
    "from selenium import webdriver\n",
    "from selenium.webdriver.chrome.options import Options\n",
    "from bs4 import BeautifulSoup as BS\n",
    "\n",
    "import time as time\n",
    "from dateutil.parser import parse\n",
    "from dateutil.relativedelta import relativedelta\n",
    "import datetime\n",
    "import os\n",
    "import json\n",
    "\n",
    "from OhmicityShared import ohmicity_shared\n",
    "\n",
    "from selenium.webdriver.common.keys import Keys\n",
    "from webdriver_manager.chrome import ChromeDriverManager\n",
    "from selenium.webdriver.common.by import By\n",
    "from selenium.webdriver.support.ui import WebDriverWait\n",
    "from selenium.webdriver.support import expected_conditions as EC"
   ]
  },
  {
   "cell_type": "code",
   "execution_count": 16,
   "metadata": {},
   "outputs": [],
   "source": [
    "urls = [\n",
    "    'https://www.bandsintown.com/a/8596214-selwyn-birchwood-band?', 'https://www.bandsintown.com/a/4009595-jah-movement?', 'https://www.bandsintown.com/a/2470649', 'https://www.bandsintown.com/a/1710060-ariella?',\n",
    "    \n",
    "]\n",
    "\n",
    "band_name = '****************'"
   ]
  },
  {
   "cell_type": "code",
   "execution_count": 23,
   "metadata": {},
   "outputs": [
    {
     "name": "stderr",
     "output_type": "stream",
     "text": [
      "/var/folders/qj/lf30psn544jbkxz0g333d31m0000gn/T/ipykernel_26612/3714238019.py:3: DeprecationWarning: executable_path has been deprecated, please pass in a Service object\n",
      "  driver = webdriver.Chrome(executable_path= '/Volumes/Work/Face2Face/Xity/streetTeam/Scrappers/chromedriver', options = options)\n"
     ]
    }
   ],
   "source": [
    "options = Options()\n",
    "options.headless = False\n",
    "driver = webdriver.Chrome(executable_path= '/Volumes/Work/Face2Face/Xity/streetTeam/Scrappers/chromedriver', options = options)"
   ]
  },
  {
   "cell_type": "code",
   "execution_count": 18,
   "metadata": {},
   "outputs": [],
   "source": [
    "driver.get('https://www.bandsintown.com/a/8596214-selwyn-birchwood-band?')"
   ]
  },
  {
   "cell_type": "code",
   "execution_count": 19,
   "metadata": {},
   "outputs": [
    {
     "name": "stdout",
     "output_type": "stream",
     "text": [
      "Selwyn Birchwood Band\n"
     ]
    }
   ],
   "source": [
    "band_name = driver.find_element(By.XPATH, '//*[@id=\"main\"]/div/div/div[2]/div[2]/div[1]/div/div[3]/div[1]/div[2]/div[1]').text.strip()\n",
    "print(band_name)"
   ]
  },
  {
   "cell_type": "code",
   "execution_count": 20,
   "metadata": {},
   "outputs": [],
   "source": [
    "show_more_button = driver.find_element(By.XPATH, '/html/body/div[1]/div/div/div[2]/div[2]/div[2]/div[1]/div[1]/div[3]/div[1]/div/div/div')\n",
    "show_more_button.click()"
   ]
  },
  {
   "cell_type": "code",
   "execution_count": 21,
   "metadata": {},
   "outputs": [
    {
     "name": "stdout",
     "output_type": "stream",
     "text": [
      "https://www.bandsintown.com/e/102876082-selwyn-birchwood-band-at-safety-harbor-waterfront-park?came_from=251&utm_medium=web&utm_source=artist_page&utm_campaign=event\n",
      "https://www.bandsintown.com/e/103178233-selwyn-birchwood-band-at-englewoods-on-dearborn-restaurant?came_from=251&utm_medium=web&utm_source=artist_page&utm_campaign=event\n",
      "https://www.bandsintown.com/e/103138490-selwyn-birchwood-band-at-skipper's-smokehouse?came_from=251&utm_medium=web&utm_source=artist_page&utm_campaign=event\n",
      "https://www.bandsintown.com/e/103197058-selwyn-birchwood-band-at-downtown-bonita-springs?came_from=251&utm_medium=web&utm_source=artist_page&utm_campaign=event\n",
      "https://www.bandsintown.com/e/103197062-selwyn-birchwood-band-at-floridian-social-club?came_from=251&utm_medium=web&utm_source=artist_page&utm_campaign=event\n",
      "https://www.bandsintown.com/e/103197067-selwyn-birchwood-band-at-lake-david-park?came_from=251&utm_medium=web&utm_source=artist_page&utm_campaign=event\n"
     ]
    }
   ],
   "source": [
    "links_array = []\n",
    "shows_array = []\n",
    "all_events = driver.find_element(By.CLASS_NAME, 'qznXLxZY-XWcgeMFMR1So')\n",
    "div = all_events.find_element(By.TAG_NAME, 'div')\n",
    "links_tags = div.find_elements(By.TAG_NAME, 'a')\n",
    "\n",
    "for link in links_tags:\n",
    "    print(link.get_property('href'))\n"
   ]
  },
  {
   "cell_type": "code",
   "execution_count": 25,
   "metadata": {},
   "outputs": [],
   "source": [
    "def runAll(url):\n",
    "    links_array = []\n",
    "    shows_array = []\n",
    "    \n",
    "    driver.get(url)\n",
    "\n",
    "    band_name = driver.find_element(By.XPATH, '//*[@id=\"main\"]/div/div/div[2]/div[2]/div[1]/div/div[3]/div[1]/div[2]/div[1]').text.strip()\n",
    "\n",
    "    show_more_button = driver.find_element(By.XPATH, '/html/body/div[1]/div/div/div[2]/div[2]/div[2]/div[1]/div[1]/div[3]/div[1]/div/div/div')\n",
    "    show_more_button.click()\n",
    "\n",
    "    all_events = driver.find_element(By.CLASS_NAME, 'qznXLxZY-XWcgeMFMR1So')\n",
    "\n",
    "    div = all_events.find_element(By.TAG_NAME, 'div')\n",
    "    links_tags = div.find_elements(By.TAG_NAME, 'a')\n",
    "\n",
    "    for link in links_tags:\n",
    "        links_array.append(link.get_property('href'))\n",
    "\n",
    "    for link in links_array:\n",
    "        driver.get(link)\n",
    "        \n",
    "        venue_div = driver.find_element(By.CLASS_NAME, '_2wsU7P2Nq0F2Ewki3qdVwK')\n",
    "        venue_link = venue_div.find_element(By.TAG_NAME, 'a')\n",
    "        venue_name = venue_link.text\n",
    "\n",
    "        if any([x in venue_name.lower() for x in ohmicity_shared.venue_array]): \n",
    "                    pass\n",
    "        else:\n",
    "                    continue\n",
    "\n",
    "        show_date = driver.find_element(By.CLASS_NAME, '_1TLOSkbytCU0xipvsRNoDv').text\n",
    "        show_time = driver.find_element(By.CLASS_NAME, '_1iK6x88EqsupILFxTvC9ip').text\n",
    "        raw_time = show_date + \" \" + show_time\n",
    "\n",
    "        this_time = parse(raw_time)\n",
    "        date_string = '{:%b %d, %Y %-I:%M%p}'.format(this_time)\n",
    "\n",
    "        showDict = {}\n",
    "        showDict['venue'] = venue_name\n",
    "        showDict['band'] = band_name\n",
    "        showDict['dateString'] = date_string\n",
    "        shows_array.append(showDict)\n",
    "\n",
    "    shows = {}\n",
    "    shows['shows'] = shows_array\n",
    "\n",
    "    save_path = ohmicity_shared.band_data_path\n",
    "    file_name = band_name + '.json'\n",
    "    complete_name = os.path.join(save_path, file_name)\n",
    "\n",
    "    file = open(complete_name, 'w')\n",
    "    file.write(json.dumps(shows, indent = 2))\n",
    "    file.close()\n",
    "    print(f\"{band_name} Complete!\")\n",
    "    \n",
    "\n",
    "    "
   ]
  },
  {
   "cell_type": "code",
   "execution_count": 26,
   "metadata": {},
   "outputs": [
    {
     "name": "stdout",
     "output_type": "stream",
     "text": [
      "Bands In Town Started\n",
      "Selwyn Birchwood Band Complete!\n",
      "Jah Movement Complete!\n",
      "Sarah Diamond Complete!\n"
     ]
    },
    {
     "ename": "NoSuchElementException",
     "evalue": "Message: no such element: Unable to locate element: {\"method\":\"css selector\",\"selector\":\"._2wsU7P2Nq0F2Ewki3qdVwK\"}\n  (Session info: chrome=98.0.4758.102)\nStacktrace:\n0   chromedriver                        0x0000000104c543c9 chromedriver + 5018569\n1   chromedriver                        0x0000000104bdf333 chromedriver + 4539187\n2   chromedriver                        0x00000001047b4a88 chromedriver + 170632\n3   chromedriver                        0x00000001047e9332 chromedriver + 385842\n4   chromedriver                        0x00000001047e94f1 chromedriver + 386289\n5   chromedriver                        0x000000010481b8b4 chromedriver + 592052\n6   chromedriver                        0x000000010480680d chromedriver + 505869\n7   chromedriver                        0x0000000104819604 chromedriver + 583172\n8   chromedriver                        0x00000001048066d3 chromedriver + 505555\n9   chromedriver                        0x00000001047dc95e chromedriver + 334174\n10  chromedriver                        0x00000001047dd935 chromedriver + 338229\n11  chromedriver                        0x0000000104c101ee chromedriver + 4739566\n12  chromedriver                        0x0000000104c29f51 chromedriver + 4845393\n13  chromedriver                        0x0000000104c2f928 chromedriver + 4868392\n14  chromedriver                        0x0000000104c2aa7a chromedriver + 4848250\n15  chromedriver                        0x0000000104c04c31 chromedriver + 4693041\n16  chromedriver                        0x0000000104c45978 chromedriver + 4958584\n17  chromedriver                        0x0000000104c45b01 chromedriver + 4958977\n18  chromedriver                        0x0000000104c5b795 chromedriver + 5048213\n19  libsystem_pthread.dylib             0x00007fff204688fc _pthread_start + 224\n20  libsystem_pthread.dylib             0x00007fff20464443 thread_start + 15\n",
     "output_type": "error",
     "traceback": [
      "\u001b[0;31m---------------------------------------------------------------------------\u001b[0m",
      "\u001b[0;31mNoSuchElementException\u001b[0m                    Traceback (most recent call last)",
      "\u001b[0;32m/var/folders/qj/lf30psn544jbkxz0g333d31m0000gn/T/ipykernel_26612/3954421632.py\u001b[0m in \u001b[0;36m<module>\u001b[0;34m\u001b[0m\n\u001b[1;32m      2\u001b[0m \u001b[0;34m\u001b[0m\u001b[0m\n\u001b[1;32m      3\u001b[0m \u001b[0;32mfor\u001b[0m \u001b[0murl\u001b[0m \u001b[0;32min\u001b[0m \u001b[0murls\u001b[0m\u001b[0;34m:\u001b[0m\u001b[0;34m\u001b[0m\u001b[0;34m\u001b[0m\u001b[0m\n\u001b[0;32m----> 4\u001b[0;31m     \u001b[0mrunAll\u001b[0m\u001b[0;34m(\u001b[0m\u001b[0murl\u001b[0m\u001b[0;34m)\u001b[0m\u001b[0;34m\u001b[0m\u001b[0;34m\u001b[0m\u001b[0m\n\u001b[0m\u001b[1;32m      5\u001b[0m \u001b[0;34m\u001b[0m\u001b[0m\n\u001b[1;32m      6\u001b[0m \u001b[0mdriver\u001b[0m\u001b[0;34m.\u001b[0m\u001b[0mquit\u001b[0m\u001b[0;34m(\u001b[0m\u001b[0;34m)\u001b[0m\u001b[0;34m\u001b[0m\u001b[0;34m\u001b[0m\u001b[0m\n",
      "\u001b[0;32m/var/folders/qj/lf30psn544jbkxz0g333d31m0000gn/T/ipykernel_26612/1870268462.py\u001b[0m in \u001b[0;36mrunAll\u001b[0;34m(url)\u001b[0m\n\u001b[1;32m     21\u001b[0m         \u001b[0mdriver\u001b[0m\u001b[0;34m.\u001b[0m\u001b[0mget\u001b[0m\u001b[0;34m(\u001b[0m\u001b[0mlink\u001b[0m\u001b[0;34m)\u001b[0m\u001b[0;34m\u001b[0m\u001b[0;34m\u001b[0m\u001b[0m\n\u001b[1;32m     22\u001b[0m \u001b[0;34m\u001b[0m\u001b[0m\n\u001b[0;32m---> 23\u001b[0;31m         \u001b[0mvenue_div\u001b[0m \u001b[0;34m=\u001b[0m \u001b[0mdriver\u001b[0m\u001b[0;34m.\u001b[0m\u001b[0mfind_element\u001b[0m\u001b[0;34m(\u001b[0m\u001b[0mBy\u001b[0m\u001b[0;34m.\u001b[0m\u001b[0mCLASS_NAME\u001b[0m\u001b[0;34m,\u001b[0m \u001b[0;34m'_2wsU7P2Nq0F2Ewki3qdVwK'\u001b[0m\u001b[0;34m)\u001b[0m\u001b[0;34m\u001b[0m\u001b[0;34m\u001b[0m\u001b[0m\n\u001b[0m\u001b[1;32m     24\u001b[0m         \u001b[0mvenue_link\u001b[0m \u001b[0;34m=\u001b[0m \u001b[0mvenue_div\u001b[0m\u001b[0;34m.\u001b[0m\u001b[0mfind_element\u001b[0m\u001b[0;34m(\u001b[0m\u001b[0mBy\u001b[0m\u001b[0;34m.\u001b[0m\u001b[0mTAG_NAME\u001b[0m\u001b[0;34m,\u001b[0m \u001b[0;34m'a'\u001b[0m\u001b[0;34m)\u001b[0m\u001b[0;34m\u001b[0m\u001b[0;34m\u001b[0m\u001b[0m\n\u001b[1;32m     25\u001b[0m         \u001b[0mvenue_name\u001b[0m \u001b[0;34m=\u001b[0m \u001b[0mvenue_link\u001b[0m\u001b[0;34m.\u001b[0m\u001b[0mtext\u001b[0m\u001b[0;34m\u001b[0m\u001b[0;34m\u001b[0m\u001b[0m\n",
      "\u001b[0;32m/Volumes/Work/Face2Face/Xity/streetTeam/Scrappers/xity_band_scrappers_env/lib/python3.10/site-packages/selenium/webdriver/remote/webdriver.py\u001b[0m in \u001b[0;36mfind_element\u001b[0;34m(self, by, value)\u001b[0m\n\u001b[1;32m   1242\u001b[0m             \u001b[0mvalue\u001b[0m \u001b[0;34m=\u001b[0m \u001b[0;34m'[name=\"%s\"]'\u001b[0m \u001b[0;34m%\u001b[0m \u001b[0mvalue\u001b[0m\u001b[0;34m\u001b[0m\u001b[0;34m\u001b[0m\u001b[0m\n\u001b[1;32m   1243\u001b[0m \u001b[0;34m\u001b[0m\u001b[0m\n\u001b[0;32m-> 1244\u001b[0;31m         return self.execute(Command.FIND_ELEMENT, {\n\u001b[0m\u001b[1;32m   1245\u001b[0m             \u001b[0;34m'using'\u001b[0m\u001b[0;34m:\u001b[0m \u001b[0mby\u001b[0m\u001b[0;34m,\u001b[0m\u001b[0;34m\u001b[0m\u001b[0;34m\u001b[0m\u001b[0m\n\u001b[1;32m   1246\u001b[0m             'value': value})['value']\n",
      "\u001b[0;32m/Volumes/Work/Face2Face/Xity/streetTeam/Scrappers/xity_band_scrappers_env/lib/python3.10/site-packages/selenium/webdriver/remote/webdriver.py\u001b[0m in \u001b[0;36mexecute\u001b[0;34m(self, driver_command, params)\u001b[0m\n\u001b[1;32m    422\u001b[0m         \u001b[0mresponse\u001b[0m \u001b[0;34m=\u001b[0m \u001b[0mself\u001b[0m\u001b[0;34m.\u001b[0m\u001b[0mcommand_executor\u001b[0m\u001b[0;34m.\u001b[0m\u001b[0mexecute\u001b[0m\u001b[0;34m(\u001b[0m\u001b[0mdriver_command\u001b[0m\u001b[0;34m,\u001b[0m \u001b[0mparams\u001b[0m\u001b[0;34m)\u001b[0m\u001b[0;34m\u001b[0m\u001b[0;34m\u001b[0m\u001b[0m\n\u001b[1;32m    423\u001b[0m         \u001b[0;32mif\u001b[0m \u001b[0mresponse\u001b[0m\u001b[0;34m:\u001b[0m\u001b[0;34m\u001b[0m\u001b[0;34m\u001b[0m\u001b[0m\n\u001b[0;32m--> 424\u001b[0;31m             \u001b[0mself\u001b[0m\u001b[0;34m.\u001b[0m\u001b[0merror_handler\u001b[0m\u001b[0;34m.\u001b[0m\u001b[0mcheck_response\u001b[0m\u001b[0;34m(\u001b[0m\u001b[0mresponse\u001b[0m\u001b[0;34m)\u001b[0m\u001b[0;34m\u001b[0m\u001b[0;34m\u001b[0m\u001b[0m\n\u001b[0m\u001b[1;32m    425\u001b[0m             response['value'] = self._unwrap_value(\n\u001b[1;32m    426\u001b[0m                 response.get('value', None))\n",
      "\u001b[0;32m/Volumes/Work/Face2Face/Xity/streetTeam/Scrappers/xity_band_scrappers_env/lib/python3.10/site-packages/selenium/webdriver/remote/errorhandler.py\u001b[0m in \u001b[0;36mcheck_response\u001b[0;34m(self, response)\u001b[0m\n\u001b[1;32m    245\u001b[0m                 \u001b[0malert_text\u001b[0m \u001b[0;34m=\u001b[0m \u001b[0mvalue\u001b[0m\u001b[0;34m[\u001b[0m\u001b[0;34m'alert'\u001b[0m\u001b[0;34m]\u001b[0m\u001b[0;34m.\u001b[0m\u001b[0mget\u001b[0m\u001b[0;34m(\u001b[0m\u001b[0;34m'text'\u001b[0m\u001b[0;34m)\u001b[0m\u001b[0;34m\u001b[0m\u001b[0;34m\u001b[0m\u001b[0m\n\u001b[1;32m    246\u001b[0m             \u001b[0;32mraise\u001b[0m \u001b[0mexception_class\u001b[0m\u001b[0;34m(\u001b[0m\u001b[0mmessage\u001b[0m\u001b[0;34m,\u001b[0m \u001b[0mscreen\u001b[0m\u001b[0;34m,\u001b[0m \u001b[0mstacktrace\u001b[0m\u001b[0;34m,\u001b[0m \u001b[0malert_text\u001b[0m\u001b[0;34m)\u001b[0m  \u001b[0;31m# type: ignore[call-arg]  # mypy is not smart enough here\u001b[0m\u001b[0;34m\u001b[0m\u001b[0;34m\u001b[0m\u001b[0m\n\u001b[0;32m--> 247\u001b[0;31m         \u001b[0;32mraise\u001b[0m \u001b[0mexception_class\u001b[0m\u001b[0;34m(\u001b[0m\u001b[0mmessage\u001b[0m\u001b[0;34m,\u001b[0m \u001b[0mscreen\u001b[0m\u001b[0;34m,\u001b[0m \u001b[0mstacktrace\u001b[0m\u001b[0;34m)\u001b[0m\u001b[0;34m\u001b[0m\u001b[0;34m\u001b[0m\u001b[0m\n\u001b[0m\u001b[1;32m    248\u001b[0m \u001b[0;34m\u001b[0m\u001b[0m\n\u001b[1;32m    249\u001b[0m     \u001b[0;32mdef\u001b[0m \u001b[0m_value_or_default\u001b[0m\u001b[0;34m(\u001b[0m\u001b[0mself\u001b[0m\u001b[0;34m,\u001b[0m \u001b[0mobj\u001b[0m\u001b[0;34m:\u001b[0m \u001b[0mMapping\u001b[0m\u001b[0;34m[\u001b[0m\u001b[0m_KT\u001b[0m\u001b[0;34m,\u001b[0m \u001b[0m_VT\u001b[0m\u001b[0;34m]\u001b[0m\u001b[0;34m,\u001b[0m \u001b[0mkey\u001b[0m\u001b[0;34m:\u001b[0m \u001b[0m_KT\u001b[0m\u001b[0;34m,\u001b[0m \u001b[0mdefault\u001b[0m\u001b[0;34m:\u001b[0m \u001b[0m_VT\u001b[0m\u001b[0;34m)\u001b[0m \u001b[0;34m->\u001b[0m \u001b[0m_VT\u001b[0m\u001b[0;34m:\u001b[0m\u001b[0;34m\u001b[0m\u001b[0;34m\u001b[0m\u001b[0m\n",
      "\u001b[0;31mNoSuchElementException\u001b[0m: Message: no such element: Unable to locate element: {\"method\":\"css selector\",\"selector\":\"._2wsU7P2Nq0F2Ewki3qdVwK\"}\n  (Session info: chrome=98.0.4758.102)\nStacktrace:\n0   chromedriver                        0x0000000104c543c9 chromedriver + 5018569\n1   chromedriver                        0x0000000104bdf333 chromedriver + 4539187\n2   chromedriver                        0x00000001047b4a88 chromedriver + 170632\n3   chromedriver                        0x00000001047e9332 chromedriver + 385842\n4   chromedriver                        0x00000001047e94f1 chromedriver + 386289\n5   chromedriver                        0x000000010481b8b4 chromedriver + 592052\n6   chromedriver                        0x000000010480680d chromedriver + 505869\n7   chromedriver                        0x0000000104819604 chromedriver + 583172\n8   chromedriver                        0x00000001048066d3 chromedriver + 505555\n9   chromedriver                        0x00000001047dc95e chromedriver + 334174\n10  chromedriver                        0x00000001047dd935 chromedriver + 338229\n11  chromedriver                        0x0000000104c101ee chromedriver + 4739566\n12  chromedriver                        0x0000000104c29f51 chromedriver + 4845393\n13  chromedriver                        0x0000000104c2f928 chromedriver + 4868392\n14  chromedriver                        0x0000000104c2aa7a chromedriver + 4848250\n15  chromedriver                        0x0000000104c04c31 chromedriver + 4693041\n16  chromedriver                        0x0000000104c45978 chromedriver + 4958584\n17  chromedriver                        0x0000000104c45b01 chromedriver + 4958977\n18  chromedriver                        0x0000000104c5b795 chromedriver + 5048213\n19  libsystem_pthread.dylib             0x00007fff204688fc _pthread_start + 224\n20  libsystem_pthread.dylib             0x00007fff20464443 thread_start + 15\n"
     ]
    }
   ],
   "source": [
    "print(\"Bands In Town Started\")\n",
    "\n",
    "for url in urls:\n",
    "    runAll(url)\n",
    "\n",
    "driver.quit()\n",
    "print(\"Bands In Town Complete\")"
   ]
  }
 ],
 "metadata": {
  "interpreter": {
   "hash": "6ea8130cf7079e1d90f0fb6ee152b2521b2dd9b5465fe4537a2721481496940f"
  },
  "kernelspec": {
   "display_name": "Python 3.10.1 64-bit ('xity_band_scrappers_env': venv)",
   "language": "python",
   "name": "python3"
  },
  "language_info": {
   "codemirror_mode": {
    "name": "ipython",
    "version": 3
   },
   "file_extension": ".py",
   "mimetype": "text/x-python",
   "name": "python",
   "nbconvert_exporter": "python",
   "pygments_lexer": "ipython3",
   "version": "3.10.1"
  },
  "orig_nbformat": 4
 },
 "nbformat": 4,
 "nbformat_minor": 2
}
