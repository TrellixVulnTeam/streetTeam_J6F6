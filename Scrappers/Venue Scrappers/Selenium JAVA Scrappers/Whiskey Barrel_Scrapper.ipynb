{
 "cells": [
  {
   "cell_type": "code",
   "execution_count": 1,
   "id": "bacd747b",
   "metadata": {},
   "outputs": [],
   "source": [
    "from selenium import webdriver\n",
    "from selenium.webdriver.chrome.options import Options\n",
    "from bs4 import BeautifulSoup as BS\n",
    "\n",
    "import time as Time\n",
    "import re\n",
    "from dateutil.parser import parse\n",
    "import datetime\n",
    "import os\n",
    "import json\n",
    "\n",
    "#For keyboard key programmatic control\n",
    "from selenium.webdriver.common.keys import Keys\n",
    "from webdriver_manager.chrome import ChromeDriverManager\n",
    "from selenium.webdriver.common.by import By\n",
    "from selenium.webdriver.support.ui import WebDriverWait\n",
    "from selenium.webdriver.support import expected_conditions as EC"
   ]
  },
  {
   "cell_type": "code",
   "execution_count": 2,
   "id": "7bb1b49a",
   "metadata": {},
   "outputs": [],
   "source": [
    "#Properties\n",
    "url = \"https://www.thewhiskeybarrelbar.com/events\"\n",
    "time = Time\n",
    "venue_name = 'The Whiskey Barrel'\n",
    "venue_array = []\n",
    "shows = []\n",
    "ex_array = [\n",
    "    \n",
    "]"
   ]
  },
  {
   "cell_type": "code",
   "execution_count": 17,
   "id": "2dc46b1d",
   "metadata": {},
   "outputs": [],
   "source": [
    "def run():\n",
    "    shows = []\n",
    "    #Navigate Site with Selenium\n",
    "    #Get List View\n",
    "    driver = webdriver.Chrome(ChromeDriverManager().install())\n",
    "    driver.get(url)\n",
    "    html = driver.page_source\n",
    "    soup = BS(html, 'lxml')\n",
    "    driver.quit()\n",
    "    \n",
    "    #Useful Selenium Commands\n",
    "        #driver.find_element_by_class_name('').click()/or no .click()\n",
    "        #driver.find_element_by_tag_name('').click()/or no .click()\n",
    "        #driver.find_element_by_xpath('').click()/or no .click()\n",
    "        #Time.sleep(Int)\n",
    "    \n",
    "    \n",
    "    #Get Data with BeautifulSoup\n",
    "    venue_name = 'The Whiskey Barrel'\n",
    "    band_name = ''\n",
    "    date_string = ''\n",
    "\n",
    "    events = soup.find_all(class_='pm-calendar-event-content-right')\n",
    "    \n",
    "    for event in events:\n",
    "        band_name = event.find('a').text\n",
    "        raw_date = event.find('p').text\n",
    "\n",
    "        this_time = parse(raw_date)\n",
    "        date_string = '{:%b %d, %Y %-I:%M%p}'.format(this_time)\n",
    "\n",
    "        try:\n",
    "            showDict = {}\n",
    "            showDict['band'] = band_name\n",
    "            showDict['dateString'] = date_string\n",
    "            shows.append(showDict)\n",
    "\n",
    "        except:\n",
    "            print('Error: Whiskey Barrel')\n",
    "\n",
    "    #Save To json file\n",
    "    '''\n",
    "    '''\n",
    "    venDict = {}\n",
    "    venDict['venueName'] = venue_name\n",
    "    venDict['shows'] = shows\n",
    "\n",
    "    venue_array = [venDict]\n",
    "    finalDict = {}\n",
    "    finalDict['venue'] = venue_array\n",
    "\n",
    "    #Save To json file\n",
    "    save_path = '/Users/nathanhedgeman/Documents/Scrappers/Show Data'\n",
    "    file_name = venue_name + '.json'\n",
    "    complete_name = os.path.join(save_path, file_name)\n",
    "\n",
    "    file = open(complete_name, 'w')\n",
    "    file.write(json.dumps(finalDict, indent = 2))\n",
    "    file.close()\n",
    "    print(\"Complete!\")"
   ]
  },
  {
   "cell_type": "code",
   "execution_count": 18,
   "id": "1c86d487-c517-439c-bc31-b7e2b0a4f7fc",
   "metadata": {},
   "outputs": [
    {
     "name": "stderr",
     "output_type": "stream",
     "text": [
      "[WDM] - \n",
      "\n",
      "[WDM] - ====== WebDriver manager ======\n",
      "[WDM] - Current google-chrome version is 96.0.4664\n",
      "[WDM] - Get LATEST driver version for 96.0.4664\n",
      "[WDM] - Driver [/Users/nathanhedgeman/.wdm/drivers/chromedriver/mac64/96.0.4664.45/chromedriver] found in cache\n",
      "<ipython-input-17-ce66c42cc7c7>:5: DeprecationWarning: executable_path has been deprecated, please pass in a Service object\n",
      "  driver = webdriver.Chrome(ChromeDriverManager().install())\n"
     ]
    },
    {
     "name": "stdout",
     "output_type": "stream",
     "text": [
      "Complete!\n"
     ]
    }
   ],
   "source": [
    "run()"
   ]
  }
 ],
 "metadata": {
  "interpreter": {
   "hash": "53258a41d29b011a261b631d05e665c4bf68087cfc6dcd67900a11497b4e4907"
  },
  "kernelspec": {
   "display_name": "Python 3.8.8 64-bit (conda)",
   "name": "python3"
  },
  "language_info": {
   "codemirror_mode": {
    "name": "ipython",
    "version": 3
   },
   "file_extension": ".py",
   "mimetype": "text/x-python",
   "name": "python",
   "nbconvert_exporter": "python",
   "pygments_lexer": "ipython3",
   "version": "3.8.8"
  }
 },
 "nbformat": 4,
 "nbformat_minor": 5
}
