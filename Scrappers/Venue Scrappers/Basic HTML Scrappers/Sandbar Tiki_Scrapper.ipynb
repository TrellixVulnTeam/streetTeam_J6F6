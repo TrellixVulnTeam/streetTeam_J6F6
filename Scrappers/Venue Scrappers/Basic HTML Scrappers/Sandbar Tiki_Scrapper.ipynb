{
 "cells": [
  {
   "cell_type": "code",
   "execution_count": 7,
   "metadata": {},
   "outputs": [],
   "source": [
    "import json\n",
    "import os\n",
    "import datetime\n",
    "import time as Time\n",
    "from posixpath import commonpath, splitext\n",
    "from bs4.element import NavigableString\n",
    "from dateutil.parser import parse\n",
    "from sys import excepthook\n",
    "from bs4 import BeautifulSoup\n",
    "import requests\n",
    "import uuid\n",
    "import re\n",
    "from requests import exceptions "
   ]
  },
  {
   "cell_type": "markdown",
   "metadata": {},
   "source": [
    "Next decide which urls to scarpe and put them into an array so you can iterate through them"
   ]
  },
  {
   "cell_type": "code",
   "execution_count": 11,
   "metadata": {},
   "outputs": [],
   "source": [
    "\n",
    "#URL's to be scrapped\n",
    "url1 = 'https://www.sandbartikigrille.com/events/'\n",
    "url2 = ''\n",
    "url3 = ''\n",
    "url4 = ''\n",
    "url5 = ''\n",
    "url_array = [url1, url2, url3, url4, url5] \n",
    "show_array = []"
   ]
  },
  {
   "cell_type": "markdown",
   "metadata": {},
   "source": [
    "Create a function that will iterate through the url_array and scrape webpage"
   ]
  },
  {
   "cell_type": "code",
   "execution_count": 3,
   "metadata": {},
   "outputs": [],
   "source": [
    "#Properties\n",
    "venue_name = 'SandBar Tiki & Grille'\n",
    "band_name = ''\n",
    "date_string = ''"
   ]
  },
  {
   "cell_type": "code",
   "execution_count": 12,
   "metadata": {},
   "outputs": [],
   "source": [
    "def run():\n",
    "    show_array = []\n",
    "    response = requests.get(url1).text\n",
    "    soup = BeautifulSoup(response, 'lxml')\n",
    "    month_year = soup.find(class_='col-auto col-m-auto month-title').text.split()\n",
    "    days = soup.find_all('td', class_='eventful')\n",
    "\n",
    "    for day in days:\n",
    "        day_number = day.text.strip().split()[0]\n",
    "        \n",
    "\n",
    "        single_shows = day.find_all(class_='live-music')\n",
    "        for show in single_shows:\n",
    "            raw_time = show.text.split('-',1)[0]\n",
    "\n",
    "            if 'p' in raw_time:\n",
    "                start_time = raw_time + 'm'\n",
    "            \n",
    "            else:\n",
    "                start_time = raw_time + 'pm'\n",
    "            \n",
    "            show_time = f'{month_year[0]} {day_number}, {month_year[1]} {start_time}'\n",
    "            date = parse(show_time)\n",
    "            date_string = '{:%b %d, %Y %-I:%M%p}'.format(date)\n",
    "            \n",
    "            band_name = show.text.split(' ', 1)[1]\n",
    "            \n",
    "            \n",
    "            if '22 N' in band_name:\n",
    "                band_name = '22N'\n",
    "\n",
    "            showDict = {}\n",
    "            showDict['band'] = band_name\n",
    "            showDict['dateString'] = date_string\n",
    "            show_array.append(showDict)\n",
    "        \n",
    "    #Export as JSON\n",
    "    venDict = {}\n",
    "    venDict['venueName'] = venue_name\n",
    "    venDict['shows'] = show_array\n",
    "\n",
    "    venue_array = [venDict]\n",
    "    finalDict = {}\n",
    "    finalDict['venue'] = venue_array\n",
    "\n",
    "    #Save To json file\n",
    "    save_path = '/Users/nathanhedgeman/Documents/Scrappers/Show Data'\n",
    "    file_name = venue_name + '.json'\n",
    "    complete_name = os.path.join(save_path, file_name)\n",
    "\n",
    "    file = open(complete_name, 'w')\n",
    "    file.write(json.dumps(finalDict, indent = 2))\n",
    "    file.close()\n",
    "    print(\"Complete!\")  "
   ]
  },
  {
   "cell_type": "code",
   "execution_count": 14,
   "metadata": {},
   "outputs": [
    {
     "name": "stdout",
     "output_type": "stream",
     "text": [
      "Complete!\n"
     ]
    }
   ],
   "source": [
    "run()"
   ]
  }
 ],
 "metadata": {
  "interpreter": {
   "hash": "ac2eaa0ea0ebeafcc7822e65e46aa9d4f966f30b695406963e145ea4a91cd4fc"
  },
  "kernelspec": {
   "display_name": "Python 3.9.4 64-bit ('python@3.9')",
   "name": "python3"
  },
  "language_info": {
   "codemirror_mode": {
    "name": "ipython",
    "version": 3
   },
   "file_extension": ".py",
   "mimetype": "text/x-python",
   "name": "python",
   "nbconvert_exporter": "python",
   "pygments_lexer": "ipython3",
   "version": "3.8.8"
  },
  "orig_nbformat": 4
 },
 "nbformat": 4,
 "nbformat_minor": 2
}
