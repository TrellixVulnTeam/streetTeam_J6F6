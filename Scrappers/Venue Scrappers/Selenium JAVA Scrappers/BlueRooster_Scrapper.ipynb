{
 "cells": [
  {
   "cell_type": "code",
   "execution_count": 1,
   "id": "bacd747b",
   "metadata": {},
   "outputs": [],
   "source": [
    "from selenium import webdriver\n",
    "from selenium.webdriver.chrome.options import Options\n",
    "from bs4 import BeautifulSoup as BS\n",
    "\n",
    "import time as Time\n",
    "import re\n",
    "from dateutil import parser\n",
    "import datetime\n",
    "import os\n",
    "import json\n",
    "\n",
    "#For keyboard key programmatic control\n",
    "from selenium.webdriver.common.keys import Keys\n",
    "from webdriver_manager.chrome import ChromeDriverManager\n",
    "from selenium.webdriver.common.by import By\n",
    "from selenium.webdriver.support.ui import WebDriverWait\n",
    "from selenium.webdriver.support import expected_conditions as EC"
   ]
  },
  {
   "cell_type": "code",
   "execution_count": 2,
   "id": "7bb1b49a",
   "metadata": {},
   "outputs": [],
   "source": [
    "#Properties\n",
    "url = \"https://blueroostersrq.com/music/list\"\n",
    "time = Time\n",
    "shows = []\n",
    "venue_array = []"
   ]
  },
  {
   "cell_type": "code",
   "execution_count": 3,
   "id": "2dc46b1d",
   "metadata": {},
   "outputs": [],
   "source": [
    "def run():\n",
    "    #Navigate Site with Selenium\n",
    "    #Get List View\n",
    "    driver = webdriver.Chrome(ChromeDriverManager().install())\n",
    "    driver.get(url)\n",
    "    driver.set_window_size(1500, 1500)\n",
    "    Time.sleep(3)\n",
    "    #Useful Selenium Commands\n",
    "        #driver.find_element_by_class_name('').click()/or no .click()\n",
    "        #driver.find_element_by_tag_name('').click()/or no .click()\n",
    "        #driver.find_element_by_xpath('').click()/or no .click()\n",
    "        #Time.sleep(Int)\n",
    "    \n",
    "    #Clicks the Find Events button to load more than 5 shows\n",
    "    driver.find_element_by_xpath('/html/body/div/div[2]/div/div/div/div[1]/article/div/div/div[2]/div[2]/form/div[1]/div/div/div[3]/input').click()\n",
    "    Time.sleep(5)\n",
    "    \n",
    "    #Get Data with BeautifulSoup\n",
    "    venue_name = \"Blue Rooster\"\n",
    "    band_name = ''\n",
    "    date_string = ''\n",
    "\n",
    "    html = driver.page_source\n",
    "    soup = BS(html, 'lxml')\n",
    "    \n",
    "    events = soup.find('div', class_ ='tribe-events-loop')\n",
    "    \n",
    "    for event in events.select('div[class*=\"type-tribe_events\"]'):\n",
    "        #Get Band Name\n",
    "        name = event.find('a').text\n",
    "        \n",
    "        if not name:\n",
    "            continue\n",
    "        \n",
    "        strip_name = name.strip()\n",
    "        \n",
    "        #Band Name Fixes\n",
    "        alFuller_clean = strip_name.replace('\\u2019s Famous', '')\n",
    "        truality_clean = alFuller_clean.replace('Sunday Gospel Buffet Brunch with ', '')\n",
    "        trualityALT_clean = truality_clean.replace('Sunday Gospel Brunch Buffet with ', '')\n",
    "        idol_clean = trualityALT_clean.replace('American Idol Finalist ', '')\n",
    "        \n",
    "        clean_name = idol_clean\n",
    "        band_name = clean_name\n",
    "        \n",
    "            \n",
    "        #Get Start Time\n",
    "        raw_date = event.find('span', class_='tribe-event-date-start').text\n",
    "        drop_string = raw_date.replace(' @', '')\n",
    "        date = parser.parse(drop_string)\n",
    "        date_string = '{:%b %d, %Y %-I:%M%p}'.format(date)\n",
    "\n",
    "        try:\n",
    "            showDict = {}\n",
    "            showDict['band'] = band_name\n",
    "            showDict['dateString'] = date_string\n",
    "            shows.append(showDict)\n",
    "\n",
    "        except AttributeError as ex:\n",
    "            print('Error', ex)\n",
    "\n",
    "\n",
    "    driver.quit\n",
    "    \n",
    "    #Create JSON Structure\n",
    "    venDict = {}\n",
    "    venDict['venueName'] = venue_name\n",
    "    venDict['shows'] = shows\n",
    "    \n",
    "    venue_array = [venDict]\n",
    "    finalDict = {}\n",
    "    finalDict['venue'] = venue_array\n",
    "\n",
    "    #Save To json file\n",
    "    save_path = '/Users/nathanhedgeman/Documents/Scrappers/Show Data'\n",
    "    file_name = venue_name + '.json'\n",
    "    complete_name = os.path.join(save_path, file_name)\n",
    "\n",
    "    file = open(complete_name, 'w')\n",
    "    file.write(json.dumps(finalDict, indent = 2))\n",
    "    file.close()\n",
    "    print(\"Complete!\")"
   ]
  },
  {
   "cell_type": "code",
   "execution_count": 4,
   "id": "1c86d487-c517-439c-bc31-b7e2b0a4f7fc",
   "metadata": {},
   "outputs": [
    {
     "name": "stderr",
     "output_type": "stream",
     "text": [
      "[WDM] - \n",
      "\n",
      "[WDM] - ====== WebDriver manager ======\n",
      "[WDM] - Current google-chrome version is 95.0.4638\n",
      "[WDM] - Get LATEST driver version for 95.0.4638\n",
      "[WDM] - Driver [/Users/nathanhedgeman/.wdm/drivers/chromedriver/mac64/95.0.4638.54/chromedriver] found in cache\n",
      "/var/folders/qj/lf30psn544jbkxz0g333d31m0000gn/T/ipykernel_17161/2796233756.py:4: DeprecationWarning: executable_path has been deprecated, please pass in a Service object\n",
      "  driver = webdriver.Chrome(ChromeDriverManager().install())\n",
      "/var/folders/qj/lf30psn544jbkxz0g333d31m0000gn/T/ipykernel_17161/2796233756.py:15: DeprecationWarning: find_element_by_* commands are deprecated. Please use find_element() instead\n",
      "  driver.find_element_by_xpath('/html/body/div/div[2]/div/div/div/div[1]/article/div/div/div[2]/div[2]/form/div[1]/div/div/div[3]/input').click()\n"
     ]
    },
    {
     "name": "stdout",
     "output_type": "stream",
     "text": [
      "Complete!\n"
     ]
    }
   ],
   "source": [
    "run()"
   ]
  },
  {
   "cell_type": "code",
   "execution_count": null,
   "id": "5cd4bb25",
   "metadata": {},
   "outputs": [],
   "source": []
  }
 ],
 "metadata": {
  "kernelspec": {
   "display_name": "Python 3 (ipykernel)",
   "language": "python",
   "name": "python3"
  },
  "language_info": {
   "codemirror_mode": {
    "name": "ipython",
    "version": 3
   },
   "file_extension": ".py",
   "mimetype": "text/x-python",
   "name": "python",
   "nbconvert_exporter": "python",
   "pygments_lexer": "ipython3",
   "version": "3.8.8"
  }
 },
 "nbformat": 4,
 "nbformat_minor": 5
}
