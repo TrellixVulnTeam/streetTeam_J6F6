{
 "cells": [
  {
   "cell_type": "code",
   "execution_count": 1,
   "metadata": {},
   "outputs": [],
   "source": [
    "from selenium import webdriver\n",
    "from selenium.webdriver.chrome.options import Options\n",
    "from bs4 import BeautifulSoup as BS\n",
    "\n",
    "import time as time\n",
    "from dateutil.parser import parse\n",
    "from dateutil.relativedelta import relativedelta\n",
    "import datetime\n",
    "import os\n",
    "import json\n",
    "\n",
    "from OhmicityShared import ohmicity_shared\n",
    "\n",
    "from selenium.webdriver.common.keys import Keys\n",
    "from webdriver_manager.chrome import ChromeDriverManager\n",
    "from selenium.webdriver.common.by import By\n",
    "from selenium.webdriver.support.ui import WebDriverWait\n",
    "from selenium.webdriver.support import expected_conditions as EC"
   ]
  },
  {
   "cell_type": "code",
   "execution_count": 2,
   "metadata": {},
   "outputs": [],
   "source": [
    "urls = [\n",
    "    'https://www.bandsintown.com/a/8596214-selwyn-birchwood-band?', 'https://www.bandsintown.com/a/4009595-jah-movement?', 'https://www.bandsintown.com/a/2470649', 'https://www.bandsintown.com/a/1710060-ariella?',\n",
    "    \n",
    "]\n",
    "\n",
    "band_name = '****************'"
   ]
  },
  {
   "cell_type": "code",
   "execution_count": 3,
   "metadata": {},
   "outputs": [
    {
     "name": "stderr",
     "output_type": "stream",
     "text": [
      "/var/folders/qj/lf30psn544jbkxz0g333d31m0000gn/T/ipykernel_43356/3714238019.py:3: DeprecationWarning: executable_path has been deprecated, please pass in a Service object\n",
      "  driver = webdriver.Chrome(executable_path= '/Volumes/Work/Face2Face/Xity/streetTeam/Scrappers/chromedriver', options = options)\n"
     ]
    }
   ],
   "source": [
    "options = Options()\n",
    "options.headless = False\n",
    "driver = webdriver.Chrome(executable_path= '/Volumes/Work/Face2Face/Xity/streetTeam/Scrappers/chromedriver', options = options)"
   ]
  },
  {
   "cell_type": "code",
   "execution_count": 4,
   "metadata": {},
   "outputs": [],
   "source": [
    "driver.get('https://www.bandsintown.com/a/8596214-selwyn-birchwood-band?')"
   ]
  },
  {
   "cell_type": "code",
   "execution_count": 10,
   "metadata": {},
   "outputs": [
    {
     "name": "stdout",
     "output_type": "stream",
     "text": [
      "Selwyn Birchwood Band\n"
     ]
    }
   ],
   "source": [
    "band_name = driver.find_element(By.XPATH, '//*[@id=\"main\"]/div/div/div[2]/div[2]/div[1]/div/div[3]/div[1]/div[2]/div[1]').text.strip()\n",
    "print(band_name)"
   ]
  },
  {
   "cell_type": "code",
   "execution_count": 11,
   "metadata": {},
   "outputs": [],
   "source": [
    "show_more_button = driver.find_element(By.XPATH, '//*[@id=\"main\"]/div/div/div[2]/div[2]/div[3]/div[1]/div[3]/div[2]/div/div[2]/div')\n",
    "show_more_button.click()"
   ]
  },
  {
   "cell_type": "code",
   "execution_count": null,
   "metadata": {},
   "outputs": [],
   "source": [
    "def runAll(url):\n",
    "    links_array = []\n",
    "    shows_array = []\n",
    "    \n",
    "    driver.get(url)\n",
    "\n",
    "    band_name = driver.find_element(By.XPATH, '//*[@id=\"main\"]/div/div/div[2]/div[2]/div[1]/div/div[3]/div[1]/div[2]/div[1]').text.strip()\n",
    "\n",
    "    show_more_button = driver.find_element(By.XPATH, '//*[@id=\"main\"]/div/div/div[2]/div[2]/div[3]/div[1]/div[3]/div[2]/div/div[2]/div')\n",
    "    show_more_button.click()\n",
    "\n",
    "    all_events = driver.find_element(By.CLASS_NAME, 'qznXLxZY-XWcgeMFMR1So')\n",
    "\n",
    "    div = all_events.find_element(By.TAG_NAME, 'div')\n",
    "    links_tags = div.find_elements(By.TAG_NAME, 'a')\n",
    "\n",
    "    for link in links_tags:\n",
    "        links_array.append(link.get_property('href'))\n",
    "\n",
    "    for link in links_array:\n",
    "        driver.get(link)\n",
    "        \n",
    "        venue_div = driver.find_element(By.CLASS_NAME, '_2wsU7P2Nq0F2Ewki3qdVwK')\n",
    "        venue_link = venue_div.find_element(By.TAG_NAME, 'a')\n",
    "        venue_name = venue_link.text\n",
    "\n",
    "        if any([x in venue_name.lower() for x in ohmicity_shared.venue_array]): \n",
    "                    pass\n",
    "        else:\n",
    "                    continue\n",
    "\n",
    "        show_date = driver.find_element(By.CLASS_NAME, '_1TLOSkbytCU0xipvsRNoDv').text\n",
    "        show_time = driver.find_element(By.CLASS_NAME, '_1iK6x88EqsupILFxTvC9ip').text\n",
    "        raw_time = show_date + \" \" + show_time\n",
    "\n",
    "        this_time = parse(raw_time)\n",
    "        date_string = '{:%b %d, %Y %-I:%M%p}'.format(this_time)\n",
    "\n",
    "        showDict = {}\n",
    "        showDict['venue'] = venue_name\n",
    "        showDict['band'] = band_name\n",
    "        showDict['dateString'] = date_string\n",
    "        shows_array.append(showDict)\n",
    "\n",
    "    shows = {}\n",
    "    shows['shows'] = shows_array\n",
    "\n",
    "    save_path = ohmicity_shared.band_data_path\n",
    "    file_name = band_name + '.json'\n",
    "    complete_name = os.path.join(save_path, file_name)\n",
    "\n",
    "    file = open(complete_name, 'w')\n",
    "    file.write(json.dumps(shows, indent = 2))\n",
    "    file.close()\n",
    "    print(f\"{band_name} Complete!\")\n",
    "    \n",
    "\n",
    "    "
   ]
  },
  {
   "cell_type": "code",
   "execution_count": null,
   "metadata": {},
   "outputs": [],
   "source": [
    "print(\"Bands In Town Started\")\n",
    "\n",
    "for url in urls:\n",
    "    runAll(url)\n",
    "\n",
    "driver.quit()\n",
    "print(\"Bands In Town Complete\")"
   ]
  }
 ],
 "metadata": {
  "interpreter": {
   "hash": "6ea8130cf7079e1d90f0fb6ee152b2521b2dd9b5465fe4537a2721481496940f"
  },
  "kernelspec": {
   "display_name": "Python 3.10.1 64-bit ('xity_band_scrappers_env': venv)",
   "language": "python",
   "name": "python3"
  },
  "language_info": {
   "codemirror_mode": {
    "name": "ipython",
    "version": 3
   },
   "file_extension": ".py",
   "mimetype": "text/x-python",
   "name": "python",
   "nbconvert_exporter": "python",
   "pygments_lexer": "ipython3",
   "version": "3.10.1"
  },
  "orig_nbformat": 4
 },
 "nbformat": 4,
 "nbformat_minor": 2
}
