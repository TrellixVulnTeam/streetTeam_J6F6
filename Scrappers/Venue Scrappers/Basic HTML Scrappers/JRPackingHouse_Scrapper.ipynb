{
 "cells": [
  {
   "cell_type": "code",
   "execution_count": null,
   "metadata": {},
   "outputs": [],
   "source": [
    "import json\n",
    "import os\n",
    "import datetime\n",
    "import time as Time\n",
    "from posixpath import commonpath, splitext\n",
    "from bs4.element import NavigableString\n",
    "from dateutil.parser import parse\n",
    "from sys import excepthook\n",
    "from bs4 import BeautifulSoup\n",
    "import requests\n",
    "import uuid\n",
    "import re\n",
    "from requests import exceptions "
   ]
  },
  {
   "cell_type": "markdown",
   "metadata": {},
   "source": [
    "Next decide which urls to scarpe and put them into an array so you can iterate through them"
   ]
  },
  {
   "cell_type": "code",
   "execution_count": null,
   "metadata": {},
   "outputs": [],
   "source": [
    "\n",
    "#URL's to be scrapped\n",
    "url1 = 'https://www.packinghousecafe.com/events'\n",
    "url2 = ''\n",
    "url3 = ''\n",
    "url4 = ''\n",
    "url5 = ''\n",
    "url_array = [url1, url2, url3, url4, url5] "
   ]
  },
  {
   "cell_type": "markdown",
   "metadata": {},
   "source": [
    "Create a function that will iterate through the url_array and scrape webpage"
   ]
  },
  {
   "cell_type": "code",
   "execution_count": 61,
   "metadata": {},
   "outputs": [],
   "source": [
    "#Properties\n",
    "venue_name = \"Jr's Old Packinghouse\"\n",
    "band_name = ''\n",
    "date_string = ''\n",
    "\n",
    "\n",
    "'''The website does have show times, this array holds the days for 6 oclock show time'''\n",
    "six_time = [\n",
    "    \"Tuesday\", \"Wednesday\", \"Thursday\"\n",
    "]\n",
    "\n",
    "ex_array = [\n",
    "    'New Year',\n",
    "]"
   ]
  },
  {
   "cell_type": "code",
   "execution_count": 52,
   "metadata": {},
   "outputs": [
    {
     "name": "stdout",
     "output_type": "stream",
     "text": [
      "Steve Paridis & The Gator Boyz\n",
      "Dec 23, 2021 6:00PM\n",
      "\n",
      "Missing Links\n",
      "Dec 24, 2021 7:00PM\n",
      "\n",
      "Alvis Brothers Band\n",
      "Dec 27, 2021 7:00PM\n",
      "\n",
      "Frankie Lombardi\n",
      "Dec 28, 2021 6:00PM\n",
      "\n",
      "Bill Hartmann\n",
      "Dec 29, 2021 6:00PM\n",
      "\n",
      "Infamous Project\n",
      "Dec 30, 2021 6:00PM\n",
      "\n",
      "Happy New Year\n",
      "Dec 31, 2021 7:00PM\n",
      "\n",
      "Alvis Brothers Band\n",
      "Jan 03, 2022 7:00PM\n",
      "\n",
      "Alvis Brothers Band\n",
      "Jan 10, 2022 7:00PM\n",
      "\n",
      "Alvis Brothers Band\n",
      "Jan 17, 2022 7:00PM\n",
      "\n"
     ]
    }
   ],
   "source": [
    "response = requests.get(url1).text\n",
    "soup = BeautifulSoup(response, 'lxml')\n",
    "\n",
    "events = soup.find(id = \"events\")\n",
    "shows = events.find_all('li')\n",
    "\n",
    "for show in shows:\n",
    "    raw_date = show.find('p').text.strip()\n",
    "\n",
    "    if any([x in raw_date for x in six_time]): \n",
    "        raw_time = '6:00PM'\n",
    "    else:\n",
    "        raw_time = '7:00PM'\n",
    "\n",
    "    raw_date = raw_date + f' {raw_time}'\n",
    "\n",
    "    date = parse(raw_date)\n",
    "    date_string = '{:%b %d, %Y %-I:%M%p}'.format(date)\n",
    "\n",
    "\n",
    "    band_name = show.find('h3').text.strip()\n",
    "\n",
    "    print(band_name)\n",
    "    print(date_string)\n",
    "    print()"
   ]
  },
  {
   "cell_type": "code",
   "execution_count": 59,
   "metadata": {},
   "outputs": [],
   "source": [
    "def scape_urls(arr):\n",
    "    for i in arr:\n",
    "        if i == '':\n",
    "            continue\n",
    "        \n",
    "        response = requests.get(i).text\n",
    "        soup = BeautifulSoup(response, 'lxml')\n",
    "\n",
    "        events = soup.find(id = \"events\")\n",
    "        shows = events.find_all('li')\n",
    "\n",
    "        for show in shows:\n",
    "            raw_date = show.find('p').text.strip()\n",
    "\n",
    "            if any([x in raw_date for x in six_time]): \n",
    "                raw_time = '6:00PM'\n",
    "            else:\n",
    "                raw_time = '7:00PM'\n",
    "\n",
    "            raw_date = raw_date + f' {raw_time}'\n",
    "\n",
    "            date = parse(raw_date)\n",
    "            date_string = '{:%b %d, %Y %-I:%M%p}'.format(date)\n",
    "\n",
    "            band_name = show.find('h3').text.strip()\n",
    "\n",
    "            '''!!!FILTER!!!'''\n",
    "            if any([x in band_name for x in ex_array]): \n",
    "                continue\n",
    "\n",
    "\n",
    "            \n",
    "\n",
    "\n",
    "            #Create model and add to array\n",
    "            showDict = {}\n",
    "            showDict['band'] = band_name\n",
    "            showDict['dateString'] = date_string\n",
    "            array.append(showDict)"
   ]
  },
  {
   "cell_type": "code",
   "execution_count": 62,
   "metadata": {},
   "outputs": [],
   "source": [
    "array = []\n",
    "scape_urls(url_array)"
   ]
  },
  {
   "cell_type": "code",
   "execution_count": 63,
   "metadata": {},
   "outputs": [
    {
     "name": "stdout",
     "output_type": "stream",
     "text": [
      "Complete!\n"
     ]
    }
   ],
   "source": [
    "venDict = {}\n",
    "venDict['venueName'] = venue_name\n",
    "venDict['shows'] = array\n",
    "\n",
    "venue_array = [venDict]\n",
    "finalDict = {}\n",
    "finalDict['venue'] = venue_array\n",
    "\n",
    "#Save To json file\n",
    "save_path = '/Users/nathanhedgeman/Documents/Scrappers/Show Data'\n",
    "file_name = venue_name + '.json'\n",
    "complete_name = os.path.join(save_path, file_name)\n",
    "\n",
    "file = open(complete_name, 'w')\n",
    "file.write(json.dumps(finalDict, indent = 2))\n",
    "file.close()\n",
    "shows = []\n",
    "print(\"Complete!\")"
   ]
  }
 ],
 "metadata": {
  "interpreter": {
   "hash": "ac2eaa0ea0ebeafcc7822e65e46aa9d4f966f30b695406963e145ea4a91cd4fc"
  },
  "kernelspec": {
   "display_name": "Python 3.9.4 64-bit ('python@3.9')",
   "name": "python3"
  },
  "language_info": {
   "codemirror_mode": {
    "name": "ipython",
    "version": 3
   },
   "file_extension": ".py",
   "mimetype": "text/x-python",
   "name": "python",
   "nbconvert_exporter": "python",
   "pygments_lexer": "ipython3",
   "version": "3.8.8"
  },
  "orig_nbformat": 4
 },
 "nbformat": 4,
 "nbformat_minor": 2
}
