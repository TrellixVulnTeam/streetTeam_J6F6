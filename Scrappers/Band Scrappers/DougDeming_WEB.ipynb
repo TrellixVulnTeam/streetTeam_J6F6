{
 "cells": [
  {
   "cell_type": "code",
   "execution_count": null,
   "metadata": {},
   "outputs": [],
   "source": [
    "from selenium import webdriver\n",
    "from selenium.webdriver.chrome.options import Options\n",
    "from bs4 import BeautifulSoup as BS\n",
    "import requests\n",
    "\n",
    "import time as time\n",
    "from dateutil.parser import parse\n",
    "from dateutil.relativedelta import relativedelta\n",
    "import datetime\n",
    "import os\n",
    "import json\n",
    "\n",
    "from OhmicityShared import ohmicity_shared\n",
    "\n",
    "from selenium.webdriver.common.keys import Keys\n",
    "from webdriver_manager.chrome import ChromeDriverManager\n",
    "from selenium.webdriver.common.by import By\n",
    "from selenium.webdriver.support.ui import WebDriverWait\n",
    "from selenium.webdriver.support import expected_conditions as EC"
   ]
  },
  {
   "cell_type": "code",
   "execution_count": null,
   "metadata": {},
   "outputs": [],
   "source": [
    "shows_array = []\n",
    "url = \"https://dougdeming.com/calendar?\"\n",
    "venue_name = \"\"\n",
    "band_name = \"Doug Deming & The Jewel Tones\""
   ]
  },
  {
   "cell_type": "code",
   "execution_count": null,
   "metadata": {},
   "outputs": [],
   "source": [
    "options = Options()\n",
    "options.headless = False\n",
    "driver = webdriver.Chrome(executable_path= '/Volumes/Work/Face2Face/Xity/streetTeam/Scrappers/chromedriver', options = options)"
   ]
  },
  {
   "cell_type": "code",
   "execution_count": null,
   "metadata": {},
   "outputs": [],
   "source": [
    "driver.get(url)"
   ]
  },
  {
   "cell_type": "code",
   "execution_count": null,
   "metadata": {},
   "outputs": [],
   "source": [
    "page1 = driver.page_source\n",
    "driver.find_element(By.XPATH, \"/html/body/div/div/div/div/div[1]/div/div[1]/div/div[3]/div/div/div/div/div/section/div/section/div/nav/span[4]/a\").click()\n",
    "page2 = driver.page_source"
   ]
  },
  {
   "cell_type": "code",
   "execution_count": null,
   "metadata": {},
   "outputs": [],
   "source": [
    "driver.quit()"
   ]
  },
  {
   "cell_type": "code",
   "execution_count": null,
   "metadata": {},
   "outputs": [],
   "source": [
    "soup1 = BS(page1, 'lxml')\n",
    "soup2 = BS(page2, 'lxml')"
   ]
  },
  {
   "cell_type": "code",
   "execution_count": null,
   "metadata": {},
   "outputs": [],
   "source": [
    "page1_shows = soup1.find_all('div', class_ = 'event-detail')\n",
    "page2_shows = soup2.find_all('div', class_ = 'event-detail')\n",
    "\n",
    "all_shows = page1_shows + page2_shows"
   ]
  },
  {
   "cell_type": "code",
   "execution_count": null,
   "metadata": {},
   "outputs": [],
   "source": [
    "for show in all_shows:\n",
    "    venue_raw = show.find('a').text\n",
    "    venue_name = venue_raw.split(',')[0]\n",
    "\n",
    "    if any([x in venue_name.lower() for x in ohmicity_shared.venue_array]):  \n",
    "        pass\n",
    "    else:\n",
    "        \n",
    "        continue\n",
    "\n",
    "    show_date = show.find('span', class_ = 'date').text\n",
    "    show_date_time = show.find('span', class_ = 'time').text\n",
    "\n",
    "    raw_date = show_date + ' ' + show_date_time\n",
    "\n",
    "    this_time = parse(raw_date)\n",
    "    date_string = '{:%b %d, %Y %-I:%M%p}'.format(this_time)\n",
    "\n",
    "    showDict = {}\n",
    "    showDict['venue'] = venue_name\n",
    "    showDict['band'] = band_name\n",
    "    showDict['dateString'] = date_string\n",
    "    shows_array.append(showDict)"
   ]
  },
  {
   "cell_type": "code",
   "execution_count": null,
   "metadata": {},
   "outputs": [],
   "source": [
    "shows = {}\n",
    "shows['shows'] = shows_array\n",
    "\n",
    "save_path = ohmicity_shared.band_data_path\n",
    "file_name = band_name + '.json'\n",
    "complete_name = os.path.join(save_path, file_name)\n",
    "\n",
    "file = open(complete_name, 'w')\n",
    "file.write(json.dumps(shows, indent = 2))\n",
    "file.close()\n",
    "print(f\"{band_name} Complete!\")"
   ]
  }
 ],
 "metadata": {
  "interpreter": {
   "hash": "b91ca056484beb984e2554c511c4b2e93f3b888dbd7f948ad90d8b3ad44cb3d1"
  },
  "kernelspec": {
   "display_name": "Python 3.10.1 ('xity_band_scrappers_env': venv)",
   "language": "python",
   "name": "python3"
  },
  "language_info": {
   "codemirror_mode": {
    "name": "ipython",
    "version": 3
   },
   "file_extension": ".py",
   "mimetype": "text/x-python",
   "name": "python",
   "nbconvert_exporter": "python",
   "pygments_lexer": "ipython3",
   "version": "3.10.1"
  },
  "orig_nbformat": 4
 },
 "nbformat": 4,
 "nbformat_minor": 2
}
