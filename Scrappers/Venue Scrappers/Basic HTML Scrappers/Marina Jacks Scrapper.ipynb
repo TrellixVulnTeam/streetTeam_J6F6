{
 "cells": [
  {
   "cell_type": "code",
   "execution_count": 7,
   "metadata": {},
   "outputs": [],
   "source": [
    "import json\n",
    "import os\n",
    "import datetime\n",
    "import time as Time\n",
    "from posixpath import commonpath, splitext\n",
    "from bs4.element import NavigableString\n",
    "from dateutil.parser import parse\n",
    "from sys import excepthook\n",
    "from bs4 import BeautifulSoup\n",
    "import requests\n",
    "import uuid\n",
    "import re\n",
    "from requests import exceptions"
   ]
  },
  {
   "cell_type": "markdown",
   "metadata": {},
   "source": [
    "Next decide which urls to scarpe and put them into an array so you can iterate through them"
   ]
  },
  {
   "cell_type": "code",
   "execution_count": 8,
   "metadata": {},
   "outputs": [],
   "source": [
    "\n",
    "#URL's to be scrapped\n",
    "url1 = 'https://www.marinajacks.com/events.html?start=0'\n",
    "url2 = 'https://www.marinajacks.com/events.html?start=10'\n",
    "url3 = 'https://www.marinajacks.com/events.html?start=20'\n",
    "url4 = 'https://www.marinajacks.com/events.html?start=30'\n",
    "url5 = 'https://www.marinajacks.com/events.html?start=40'\n",
    "url_array = [url1, url2, url3, url4, url5]"
   ]
  },
  {
   "cell_type": "markdown",
   "metadata": {},
   "source": [
    "Create a function that will iterate through the url_array and scrape webpage"
   ]
  },
  {
   "cell_type": "code",
   "execution_count": 9,
   "metadata": {},
   "outputs": [],
   "source": [
    "#Properties\n",
    "venue_name = 'Marina Jack'\n",
    "band_name = ''\n",
    "date_string = ''"
   ]
  },
  {
   "cell_type": "code",
   "execution_count": 10,
   "metadata": {},
   "outputs": [],
   "source": [
    "def scape_urls(arr):\n",
    "    for i in arr:\n",
    "        response = requests.get(i).text\n",
    "        soup = BeautifulSoup(response, 'lxml')\n",
    "\n",
    "        events = soup.find('div', class_='eb-events-timeline' )\n",
    "        \n",
    "        for event in events.find_all('div', class_= re.compile('^eb-category-')):\n",
    "            num_date = event.find('meta', itemprop = 'startDate')\n",
    "            raw_date = str(num_date)\n",
    "            meta_stripped = raw_date.replace('<meta content=\"', '')\n",
    "            item_stripped = meta_stripped.replace('\" itemprop=\"startDate\"/>', '')\n",
    "            remove_T = item_stripped.replace('T', ' ')\n",
    "            \n",
    "            #Date of show\n",
    "            date = parse(remove_T)\n",
    "            date_string = '{:%b %d, %Y %-I:%M%p}'.format(date)\n",
    "\n",
    "            #Band Name\n",
    "            raw_name = event.find_all('a')[0].text\n",
    "            band_name = raw_name.replace('\\u2019', \"'\")\n",
    "            \n",
    "            #Create model and add to array\n",
    "            showDict = {}\n",
    "            showDict['band'] = band_name\n",
    "            showDict['dateString'] = date_string\n",
    "            shows.append(showDict)"
   ]
  },
  {
   "cell_type": "code",
   "execution_count": 11,
   "metadata": {},
   "outputs": [],
   "source": [
    "shows = []\n",
    "scape_urls(url_array)"
   ]
  },
  {
   "cell_type": "code",
   "execution_count": 12,
   "metadata": {},
   "outputs": [
    {
     "name": "stdout",
     "output_type": "stream",
     "text": [
      "Complete!\n"
     ]
    }
   ],
   "source": [
    "#Export as JSON\n",
    "venDict = {}\n",
    "venDict['venueName'] = venue_name\n",
    "venDict['shows'] = shows\n",
    "\n",
    "venue_array = [venDict]\n",
    "finalDict = {}\n",
    "finalDict['venue'] = venue_array\n",
    "\n",
    "#Save To json file\n",
    "save_path = '/Users/nathanhedgeman/Documents/Scrappers/Show Data'\n",
    "file_name = venue_name + '.json'\n",
    "complete_name = os.path.join(save_path, file_name)\n",
    "\n",
    "file = open(complete_name, 'w')\n",
    "file.write(json.dumps(finalDict, indent = 2))\n",
    "file.close()\n",
    "print(\"Complete!\")"
   ]
  }
 ],
 "metadata": {
  "interpreter": {
   "hash": "ac2eaa0ea0ebeafcc7822e65e46aa9d4f966f30b695406963e145ea4a91cd4fc"
  },
  "kernelspec": {
   "display_name": "Python 3.9.4 64-bit ('python@3.9')",
   "name": "python3"
  },
  "language_info": {
   "codemirror_mode": {
    "name": "ipython",
    "version": 3
   },
   "file_extension": ".py",
   "mimetype": "text/x-python",
   "name": "python",
   "nbconvert_exporter": "python",
   "pygments_lexer": "ipython3",
   "version": "3.9.4"
  },
  "orig_nbformat": 4
 },
 "nbformat": 4,
 "nbformat_minor": 2
}
