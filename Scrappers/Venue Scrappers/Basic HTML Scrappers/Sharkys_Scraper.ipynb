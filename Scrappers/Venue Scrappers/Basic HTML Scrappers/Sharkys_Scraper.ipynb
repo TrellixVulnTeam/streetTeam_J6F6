{
 "cells": [
  {
   "cell_type": "code",
   "execution_count": 18,
   "metadata": {},
   "outputs": [],
   "source": [
    "import json\n",
    "import os\n",
    "import datetime\n",
    "import time as Time\n",
    "from posixpath import commonpath, splitext\n",
    "from bs4.element import NavigableString\n",
    "from dateutil.parser import parse\n",
    "from sys import excepthook\n",
    "from bs4 import BeautifulSoup\n",
    "import requests\n",
    "import uuid\n",
    "import re\n",
    "from requests import exceptions "
   ]
  },
  {
   "cell_type": "markdown",
   "metadata": {},
   "source": [
    "Next decide which urls to scarpe and put them into an array so you can iterate through them"
   ]
  },
  {
   "cell_type": "code",
   "execution_count": 19,
   "metadata": {},
   "outputs": [],
   "source": [
    "\n",
    "#URL's to be scrapped\n",
    "url1 = 'https://www.sharkysonthepier.com/live-music'\n",
    "url2 = ''\n",
    "url3 = ''\n",
    "url4 = ''\n",
    "url5 = ''\n",
    "url_array = [url1, url2, url3, url4, url5] "
   ]
  },
  {
   "cell_type": "markdown",
   "metadata": {},
   "source": [
    "Create a function that will iterate through the url_array and scrape webpage"
   ]
  },
  {
   "cell_type": "code",
   "execution_count": 20,
   "metadata": {},
   "outputs": [],
   "source": [
    "#Properties\n",
    "venue_name = \"Sharky's On the Pier\"\n",
    "band_name = ''\n",
    "date_string = ''"
   ]
  },
  {
   "cell_type": "code",
   "execution_count": null,
   "metadata": {},
   "outputs": [],
   "source": [
    "response = requests.get(url1).text\n",
    "soup = BeautifulSoup(response, 'lxml')\n",
    "events = soup.find_all(class_='rs_event_detail')\n",
    "\n",
    "for event in events:\n",
    "    band_name = event.find(itemprop='name').text.strip()\n",
    "    raw_date = event.find(class_='rsepro-event-from-block').b.text.split(' pm')[0] + 'pm'\n",
    "    \n",
    "    this_time = parse(raw_date)\n",
    "    date_string = '{:%b %d, %Y %-I:%M%p}'.format(this_time)\n",
    "\n",
    "    print(band_name)\n",
    "    print(date_string)\n",
    "    print(' ')"
   ]
  },
  {
   "cell_type": "code",
   "execution_count": 23,
   "metadata": {},
   "outputs": [],
   "source": [
    "def scape_urls(arr):\n",
    "    shows = []\n",
    "    for i in arr:\n",
    "        response = requests.get(url1).text\n",
    "        soup = BeautifulSoup(response, 'lxml')\n",
    "        events = soup.find_all(class_='rs_event_detail')\n",
    "\n",
    "        for event in events:\n",
    "            band_name = event.find(itemprop='name').text.strip()\n",
    "            raw_date = event.find(class_='rsepro-event-from-block').b.text.split(' pm')[0] + 'pm'\n",
    "            \n",
    "            this_time = parse(raw_date)\n",
    "            date_string = '{:%b %d, %Y %-I:%M%p}'.format(this_time)\n",
    "\n",
    "            #Create model and add to array\n",
    "            showDict = {}\n",
    "            showDict['band'] = band_name\n",
    "            showDict['dateString'] = date_string\n",
    "            shows.append(showDict)\n",
    "\n",
    "    venDict = {}\n",
    "    venDict['venueName'] = venue_name\n",
    "    venDict['shows'] = shows\n",
    "\n",
    "    venue_array = [venDict]\n",
    "    finalDict = {}\n",
    "    finalDict['venue'] = venue_array\n",
    "\n",
    "    #Save To json file\n",
    "    save_path = '/Users/nathanhedgeman/Documents/Scrappers/Show Data'\n",
    "    file_name = venue_name + '.json'\n",
    "    complete_name = os.path.join(save_path, file_name)\n",
    "\n",
    "    file = open(complete_name, 'w')\n",
    "    file.write(json.dumps(finalDict, indent = 2))\n",
    "    file.close()\n",
    "    shows = []\n",
    "    print(\"Complete!\")"
   ]
  },
  {
   "cell_type": "code",
   "execution_count": 24,
   "metadata": {},
   "outputs": [
    {
     "name": "stdout",
     "output_type": "stream",
     "text": [
      "Complete!\n"
     ]
    }
   ],
   "source": [
    "scape_urls(url_array)"
   ]
  },
  {
   "cell_type": "code",
   "execution_count": null,
   "metadata": {},
   "outputs": [],
   "source": []
  }
 ],
 "metadata": {
  "interpreter": {
   "hash": "ac2eaa0ea0ebeafcc7822e65e46aa9d4f966f30b695406963e145ea4a91cd4fc"
  },
  "kernelspec": {
   "display_name": "Python 3.9.4 64-bit ('python@3.9')",
   "name": "python3"
  },
  "language_info": {
   "codemirror_mode": {
    "name": "ipython",
    "version": 3
   },
   "file_extension": ".py",
   "mimetype": "text/x-python",
   "name": "python",
   "nbconvert_exporter": "python",
   "pygments_lexer": "ipython3",
   "version": "3.8.8"
  },
  "orig_nbformat": 4
 },
 "nbformat": 4,
 "nbformat_minor": 2
}
