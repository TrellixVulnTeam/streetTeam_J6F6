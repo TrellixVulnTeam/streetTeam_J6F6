{
 "cells": [
  {
   "cell_type": "code",
   "execution_count": 13,
   "metadata": {},
   "outputs": [],
   "source": [
    "from selenium import webdriver\n",
    "from selenium.webdriver.chrome.options import Options\n",
    "from selenium.webdriver.common.action_chains import ActionChains\n",
    "from bs4 import BeautifulSoup as BS\n",
    "\n",
    "import time as time\n",
    "from dateutil.parser import parse\n",
    "from dateutil.relativedelta import relativedelta\n",
    "import datetime\n",
    "import os\n",
    "import json\n",
    "import time\n",
    "\n",
    "from OhmicityShared import ohmicity_shared\n",
    "from selenium.webdriver.common.keys import Keys\n",
    "from webdriver_manager.chrome import ChromeDriverManager\n",
    "from selenium.webdriver.common.by import By\n",
    "from selenium.webdriver.support.ui import WebDriverWait\n",
    "from selenium.webdriver.support import expected_conditions as EC"
   ]
  },
  {
   "cell_type": "code",
   "execution_count": 14,
   "metadata": {},
   "outputs": [],
   "source": [
    "band_name = \"Danielle Mohr\"\n",
    "url = \"https://www.daniellemohrmusic.com/\"\n",
    "shows_array = []\n",
    "shows = {}\n",
    "venue_array = []"
   ]
  },
  {
   "cell_type": "code",
   "execution_count": 15,
   "metadata": {},
   "outputs": [
    {
     "name": "stderr",
     "output_type": "stream",
     "text": [
      "\n",
      "\n",
      "====== WebDriver manager ======\n",
      "Current google-chrome version is 97.0.4692\n",
      "Get LATEST chromedriver version for 97.0.4692 google-chrome\n",
      "Driver [/Users/nathanhedgeman/.wdm/drivers/chromedriver/mac64/97.0.4692.71/chromedriver] found in cache\n",
      "/var/folders/qj/lf30psn544jbkxz0g333d31m0000gn/T/ipykernel_27641/1925696015.py:1: DeprecationWarning: executable_path has been deprecated, please pass in a Service object\n",
      "  driver = webdriver.Chrome(ChromeDriverManager().install())\n"
     ]
    }
   ],
   "source": [
    "driver = webdriver.Chrome(ChromeDriverManager().install())\n",
    "driver.set_window_size(1500, 1500)\n",
    "driver.get(url)"
   ]
  },
  {
   "cell_type": "code",
   "execution_count": 16,
   "metadata": {},
   "outputs": [],
   "source": [
    "frame = driver.find_element(By.CLASS_NAME, '_49_rs')\n",
    "actions = ActionChains(driver)\n",
    "actions.move_to_element(frame).perform()\n"
   ]
  },
  {
   "cell_type": "code",
   "execution_count": 17,
   "metadata": {},
   "outputs": [],
   "source": [
    "driver.switch_to.frame(driver.find_element(By.CLASS_NAME, '_49_rs'))"
   ]
  },
  {
   "cell_type": "code",
   "execution_count": 18,
   "metadata": {},
   "outputs": [],
   "source": [
    "days = driver.find_elements(By.CLASS_NAME, 'events')\n",
    "\n",
    "\n",
    "for day in days:\n",
    "    day_events = day.find_elements(By.CLASS_NAME, 'ng-scope')\n",
    "    \n",
    "    for event in day_events:\n",
    "        event.click()\n",
    "        \n",
    "        popup = event.find_element(By.CLASS_NAME, 'full-height')\n",
    "        venue_name = popup.find_element(By.CSS_SELECTOR, '.popup-title').text\n",
    "        date = popup.find_element(By.CSS_SELECTOR, '.popup-when').text\n",
    "        day_time = popup.find_element(By.CSS_SELECTOR, '.popup-time').text.split('-')[0]\n",
    "        \n",
    "        raw_date = date + ' ' + day_time\n",
    "\n",
    "        date = parse(raw_date)\n",
    "        date_string = '{:%b %d, %Y %-I:%M%p}'.format(date)\n",
    "        \n",
    "        '''print(venue_name)\n",
    "        print(band_name)\n",
    "        print(date_string)\n",
    "        print()'''\n",
    "\n",
    "        time.sleep(0.5)\n",
    "        showDict = {}\n",
    "        showDict['venue'] = venue_name\n",
    "        showDict['band'] = band_name\n",
    "        showDict['dateString'] = date_string\n",
    "\n",
    "        driver.find_element(By.XPATH, '//*[@id=\"weeks-container\"]/div[1]/div[1]/div[1]').click()\n",
    "\n",
    "        shows_array.append(showDict)\n",
    "        shows['shows'] = shows_array\n",
    "        break\n",
    "\n"
   ]
  },
  {
   "cell_type": "code",
   "execution_count": null,
   "metadata": {},
   "outputs": [],
   "source": []
  },
  {
   "cell_type": "code",
   "execution_count": 19,
   "metadata": {},
   "outputs": [
    {
     "name": "stdout",
     "output_type": "stream",
     "text": [
      "[{'venue': 'Tiki docks (Riverview)', 'band': 'Danielle Mohr', 'dateString': 'Jan 30, 2022 1:00PM'}, {'venue': 'Sonder Social Club', 'band': 'Danielle Mohr', 'dateString': 'Feb 03, 2022 7:00PM'}, {'venue': 'Wicked Cantina', 'band': 'Danielle Mohr', 'dateString': 'Feb 06, 2022 6:00PM'}, {'venue': 'C house', 'band': 'Danielle Mohr', 'dateString': 'Feb 09, 2022 5:00PM'}, {'venue': 'Stirling Wine', 'band': 'Danielle Mohr', 'dateString': 'Feb 10, 2022 6:00PM'}, {'venue': 'Flute and dram', 'band': 'Danielle Mohr', 'dateString': 'Feb 11, 2022 5:00PM'}, {'venue': 'Dunedin Market', 'band': 'Danielle Mohr', 'dateString': 'Feb 12, 2022 9:00AM'}, {'venue': 'C house', 'band': 'Danielle Mohr', 'dateString': 'Feb 13, 2022 11:00AM'}, {'venue': 'Toasted Monkey', 'band': 'Danielle Mohr', 'dateString': 'Feb 15, 2022 6:00PM'}, {'venue': 'Sonder Social Club', 'band': 'Danielle Mohr', 'dateString': 'Feb 17, 2022 7:00PM'}, {'venue': 'The Big Catch', 'band': 'Danielle Mohr', 'dateString': 'Feb 18, 2022 5:30PM'}, {'venue': 'Keel and Curley', 'band': 'Danielle Mohr', 'dateString': 'Feb 19, 2022 1:00PM'}, {'venue': '', 'band': 'Danielle Mohr', 'dateString': 'Feb 20, 2022 1:00PM'}, {'venue': 'Sandbar Tiki & Grille', 'band': 'Danielle Mohr', 'dateString': 'Feb 23, 2022 1:00PM'}, {'venue': '', 'band': 'Danielle Mohr', 'dateString': 'Feb 24, 2022 5:00PM'}, {'venue': 'Dunedin Market', 'band': 'Danielle Mohr', 'dateString': 'Feb 25, 2022 9:00AM'}, {'venue': 'Blur nightclub (HoneyWhat)', 'band': 'Danielle Mohr', 'dateString': 'Feb 26, 2022 8:00PM'}, {'venue': 'C house', 'band': 'Danielle Mohr', 'dateString': 'Feb 27, 2022 11:00AM'}, {'venue': 'Keel and Curley', 'band': 'Danielle Mohr', 'dateString': 'Mar 02, 2022 1:00PM'}, {'venue': 'Sonder Social Club', 'band': 'Danielle Mohr', 'dateString': 'Mar 03, 2022 7:00PM'}, {'venue': 'C house', 'band': 'Danielle Mohr', 'dateString': 'Mar 06, 2022 11:00AM'}, {'venue': 'C house', 'band': 'Danielle Mohr', 'dateString': 'Mar 09, 2022 5:00PM'}, {'venue': 'Stirling Wine', 'band': 'Danielle Mohr', 'dateString': 'Mar 10, 2022 6:00PM'}, {'venue': 'Flute and dram', 'band': 'Danielle Mohr', 'dateString': 'Mar 11, 2022 5:00PM'}, {'venue': 'Wicked Cantina (Sarasota)', 'band': 'Danielle Mohr', 'dateString': 'Mar 12, 2022 6:00PM'}]\n",
      "Danielle Mohr Complete!\n"
     ]
    }
   ],
   "source": [
    "shows = {}\n",
    "shows['shows'] = shows_array\n",
    "\n",
    "#Save To json file\n",
    "save_path = ohmicity_shared.band_data_path\n",
    "file_name = band_name + '.json'\n",
    "complete_name = os.path.join(save_path, file_name)\n",
    "\n",
    "file = open(complete_name, 'w')\n",
    "file.write(json.dumps(shows, indent = 2))\n",
    "file.close()\n",
    "driver.quit()\n",
    "print(f\"{band_name} Complete!\")"
   ]
  }
 ],
 "metadata": {
  "interpreter": {
   "hash": "b91ca056484beb984e2554c511c4b2e93f3b888dbd7f948ad90d8b3ad44cb3d1"
  },
  "kernelspec": {
   "display_name": "Python 3.10.1 64-bit ('xity_band_scrappers_env': venv)",
   "language": "python",
   "name": "python3"
  },
  "language_info": {
   "codemirror_mode": {
    "name": "ipython",
    "version": 3
   },
   "file_extension": ".py",
   "mimetype": "text/x-python",
   "name": "python",
   "nbconvert_exporter": "python",
   "pygments_lexer": "ipython3",
   "version": "3.10.1"
  },
  "orig_nbformat": 4
 },
 "nbformat": 4,
 "nbformat_minor": 2
}
