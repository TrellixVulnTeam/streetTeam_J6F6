{
 "cells": [
  {
   "cell_type": "code",
   "execution_count": 1,
   "metadata": {},
   "outputs": [],
   "source": [
    "import json\n",
    "import os\n",
    "import datetime\n",
    "import time as Time\n",
    "from posixpath import commonpath, splitext\n",
    "from bs4.element import NavigableString\n",
    "from dateutil.parser import parse\n",
    "from sys import excepthook\n",
    "from bs4 import BeautifulSoup\n",
    "import requests\n",
    "import uuid\n",
    "import re\n",
    "from requests import exceptions "
   ]
  },
  {
   "cell_type": "markdown",
   "metadata": {},
   "source": [
    "Next decide which urls to scarpe and put them into an array so you can iterate through them"
   ]
  },
  {
   "cell_type": "code",
   "execution_count": 2,
   "metadata": {},
   "outputs": [],
   "source": [
    "\n",
    "#URL's to be scrapped\n",
    "url1 = 'https://3dbrewing.com/events/'\n",
    "url2 = ''\n",
    "url3 = ''\n",
    "url4 = ''\n",
    "url5 = ''\n",
    "url_array = [url1] "
   ]
  },
  {
   "cell_type": "markdown",
   "metadata": {},
   "source": [
    "Create a function that will iterate through the url_array and scrape webpage"
   ]
  },
  {
   "cell_type": "code",
   "execution_count": 3,
   "metadata": {},
   "outputs": [],
   "source": [
    "#Properties\n",
    "venue_name = '3 Daughters Brewing'\n",
    "band_name = ''\n",
    "date_string = ''\n",
    "shows = []\n",
    "venue_array = []"
   ]
  },
  {
   "cell_type": "code",
   "execution_count": 32,
   "metadata": {},
   "outputs": [],
   "source": [
    "def scape_urls(arr):\n",
    "    for i in arr:\n",
    "        response = requests.get(i).text\n",
    "        soup = BeautifulSoup(response, 'lxml')\n",
    "        \n",
    "        for single_Show in soup.find_all('div', class_='col event-post-container'):\n",
    "\n",
    "        #Grab its information and organize it\n",
    "            try:\n",
    "                \n",
    "                #Date\n",
    "                date_Div = single_Show.find('h3', class_ = 'second-headline').text\n",
    "                remove_EndTime = date_Div.split('-', 2)\n",
    "                cleaned = remove_EndTime[0] + ' ' + remove_EndTime[1]\n",
    "\n",
    "                date = parse(cleaned)\n",
    "                date_string = '{:%b %d, %Y %-I:%M%p}'.format(date)\n",
    "\n",
    "                #Band\n",
    "                clean_Name = single_Show.find('h3', class_ = 'headline').text\n",
    "                band_name = \" \".join(clean_Name.split())\n",
    "\n",
    "                showDict = {}\n",
    "                showDict['band'] = band_name\n",
    "                showDict['dateString'] = date_string\n",
    "                \n",
    "                \n",
    "                #Filter Data\n",
    "                filter_array = [\n",
    "                    'TRIVIA', 'Trivia', 'Food', 'Blood Drive', 'Total Wine', 'Beer', 'ABC', 'Bingo' \n",
    "                ]\n",
    "\n",
    "                if any([x in band_name for x in filter_array]):\n",
    "                    continue\n",
    "                \n",
    "                shows.append(showDict)\n",
    "                \n",
    "\n",
    "            except AttributeError as ex:\n",
    "                print('Error', ex)\n",
    "    \n",
    "    #Export as JSON\n",
    "    venDict = {}\n",
    "    venDict['venueName'] = venue_name\n",
    "    venDict['shows'] = shows\n",
    "\n",
    "    venue_array = [venDict]\n",
    "    finalDict = {}\n",
    "    finalDict['venue'] = venue_array\n",
    "\n",
    "    #Save To json file\n",
    "    save_path = '/Users/nathanhedgeman/Documents/Scrappers/Show Data'\n",
    "    file_name = venue_name + '.json'\n",
    "    complete_name = os.path.join(save_path, file_name)\n",
    "\n",
    "    file = open(complete_name, 'w')\n",
    "    file.write(json.dumps(finalDict, indent = 2))\n",
    "    file.close()\n",
    "    print(\"Complete!\")"
   ]
  },
  {
   "cell_type": "code",
   "execution_count": 33,
   "metadata": {},
   "outputs": [
    {
     "name": "stdout",
     "output_type": "stream",
     "text": [
      "Complete!\n"
     ]
    }
   ],
   "source": [
    "scape_urls(url_array)"
   ]
  }
 ],
 "metadata": {
  "interpreter": {
   "hash": "ac2eaa0ea0ebeafcc7822e65e46aa9d4f966f30b695406963e145ea4a91cd4fc"
  },
  "kernelspec": {
   "display_name": "Python 3 (ipykernel)",
   "language": "python",
   "name": "python3"
  },
  "language_info": {
   "codemirror_mode": {
    "name": "ipython",
    "version": 3
   },
   "file_extension": ".py",
   "mimetype": "text/x-python",
   "name": "python",
   "nbconvert_exporter": "python",
   "pygments_lexer": "ipython3",
   "version": "3.8.8"
  }
 },
 "nbformat": 4,
 "nbformat_minor": 4
}
