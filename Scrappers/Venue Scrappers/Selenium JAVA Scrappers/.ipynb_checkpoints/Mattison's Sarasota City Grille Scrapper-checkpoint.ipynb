{
 "cells": [
  {
   "cell_type": "code",
   "execution_count": 1,
   "id": "bacd747b",
   "metadata": {},
   "outputs": [],
   "source": [
    "from selenium import webdriver\n",
    "from bs4 import BeautifulSoup as BS\n",
    "\n",
    "import time as Time\n",
    "import re\n",
    "from dateutil import parser\n",
    "import datetime\n",
    "import os\n",
    "import json\n",
    "\n",
    "#For keyboard key programmatic control\n",
    "from selenium.webdriver.common.keys import Keys\n",
    "from webdriver_manager.chrome import ChromeDriverManager"
   ]
  },
  {
   "cell_type": "code",
   "execution_count": 2,
   "id": "7bb1b49a",
   "metadata": {},
   "outputs": [],
   "source": [
    "#Properties\n",
    "url = \"https://mattisons.com/city-grille-calendar/\"\n",
    "time = Time\n",
    "shows = []\n",
    "venue_array = []"
   ]
  },
  {
   "cell_type": "code",
   "execution_count": 3,
   "id": "2dc46b1d",
   "metadata": {},
   "outputs": [],
   "source": [
    "def run():\n",
    "    #Navigate Site with Selenium\n",
    "    #Get List View\n",
    "    driver = webdriver.Chrome(ChromeDriverManager().install())\n",
    "    driver.get(url)\n",
    "    \n",
    "    #Red Categories Button (top left) to pick the correct location\n",
    "    location_dropdown = driver.find_element_by_class_name('ai1ec-dropdown')\n",
    "    location_dropdown.click()\n",
    "    Time.sleep(1)\n",
    "    location_dropdown.find_element_by_xpath('//*[@id=\"ai1ec-calendar\"]/div[1]/ul/li/div/div[1]/a').click()\n",
    "    Time.sleep(3)\n",
    "    \n",
    "    #View Type Button (top right) to pick the list view to scrap from\n",
    "    list_dropdown = driver.find_element_by_xpath('//*[@id=\"ai1ec-calendar-view\"]/div[1]/div[1]/a/span[1]')\n",
    "    list_dropdown.click()\n",
    "    Time.sleep(1)\n",
    "    list_dropdown.find_element_by_xpath('//*[@id=\"ai1ec-view-agenda\"]/span').click()\n",
    "    \n",
    "    Time.sleep(5)\n",
    "    \n",
    "    #Get Data with BeautifulSoup\n",
    "    venue_name = \"Mattison's City Grille\"\n",
    "    band_name = ''\n",
    "    start_time = ''\n",
    "\n",
    "    html = driver.page_source\n",
    "    soup = BS(html, 'lxml')\n",
    "\n",
    "    events = soup.find_all('div', class_='ai1ec-event')\n",
    "    \n",
    "    for event in events:\n",
    "        #Get Band Name\n",
    "        raw_title = event.find('span', class_='ai1ec-event-title').text\n",
    "        title = raw_title.strip()\n",
    "        band_name = title.replace(' @ City Grille, Downtown Sarasota', '')\n",
    "\n",
    "        #Get Start Time\n",
    "        raw_time = event.find('div', class_='ai1ec-event-time').text\n",
    "        time = raw_time.strip()\n",
    "        remove_end = time.partition(' – ')[0]\n",
    "        remove_sym = remove_end.replace(' @ ', ' ')\n",
    "        date = parser.parse(remove_sym)\n",
    "        date_string = '{:%b %d, %Y %-I:%M%p}'.format(date)\n",
    "\n",
    "        try:\n",
    "            showDict = {}\n",
    "            showDict['band'] = band_name\n",
    "            showDict['dateString'] = date_string\n",
    "            shows.append(showDict)\n",
    "\n",
    "        except AttributeError as ex:\n",
    "            print('Error', ex)\n",
    "\n",
    "\n",
    "    driver.quit\n",
    "    \n",
    "    #Create JSON Structure\n",
    "    venDict = {}\n",
    "    venDict['venueName'] = venue_name\n",
    "    venDict['shows'] = shows\n",
    "    \n",
    "    venue_array = [venDict]\n",
    "    finalDict = {}\n",
    "    finalDict['venue'] = venue_array\n",
    "\n",
    "    #Save To json file\n",
    "    save_path = '/Users/nathanhedgeman/Documents/Scrappers/Show Data'\n",
    "    file_name = venue_name + '.json'\n",
    "    complete_name = os.path.join(save_path, file_name)\n",
    "\n",
    "    file = open(complete_name, 'w')\n",
    "    file.write(json.dumps(finalDict, indent = 2))\n",
    "    file.close()\n",
    "    print(\"Complete!\")"
   ]
  },
  {
   "cell_type": "code",
   "execution_count": 4,
   "id": "1c86d487-c517-439c-bc31-b7e2b0a4f7fc",
   "metadata": {},
   "outputs": [
    {
     "name": "stderr",
     "output_type": "stream",
     "text": [
      "[WDM] - \n",
      "\n",
      "[WDM] - ====== WebDriver manager ======\n",
      "[WDM] - Current google-chrome version is 95.0.4638\n",
      "[WDM] - Get LATEST driver version for 95.0.4638\n",
      "[WDM] - Driver [/Users/nathanhedgeman/.wdm/drivers/chromedriver/mac64/95.0.4638.54/chromedriver] found in cache\n",
      "/var/folders/qj/lf30psn544jbkxz0g333d31m0000gn/T/ipykernel_17344/3687290042.py:4: DeprecationWarning: executable_path has been deprecated, please pass in a Service object\n",
      "  driver = webdriver.Chrome(ChromeDriverManager().install())\n",
      "/var/folders/qj/lf30psn544jbkxz0g333d31m0000gn/T/ipykernel_17344/3687290042.py:8: DeprecationWarning: find_element_by_* commands are deprecated. Please use find_element() instead\n",
      "  location_dropdown = driver.find_element_by_class_name('ai1ec-dropdown')\n",
      "/Users/nathanhedgeman/opt/anaconda3/lib/python3.8/site-packages/selenium/webdriver/remote/webelement.py:392: UserWarning: find_element_by_* commands are deprecated. Please use find_element() instead\n",
      "  warnings.warn(\"find_element_by_* commands are deprecated. Please use find_element() instead\")\n",
      "/var/folders/qj/lf30psn544jbkxz0g333d31m0000gn/T/ipykernel_17344/3687290042.py:15: DeprecationWarning: find_element_by_* commands are deprecated. Please use find_element() instead\n",
      "  list_dropdown = driver.find_element_by_xpath('//*[@id=\"ai1ec-calendar-view\"]/div[1]/div[1]/a/span[1]')\n"
     ]
    },
    {
     "name": "stdout",
     "output_type": "stream",
     "text": [
      "Complete!\n"
     ]
    }
   ],
   "source": [
    "run()"
   ]
  }
 ],
 "metadata": {
  "kernelspec": {
   "display_name": "Python 3 (ipykernel)",
   "language": "python",
   "name": "python3"
  },
  "language_info": {
   "codemirror_mode": {
    "name": "ipython",
    "version": 3
   },
   "file_extension": ".py",
   "mimetype": "text/x-python",
   "name": "python",
   "nbconvert_exporter": "python",
   "pygments_lexer": "ipython3",
   "version": "3.8.8"
  }
 },
 "nbformat": 4,
 "nbformat_minor": 5
}
