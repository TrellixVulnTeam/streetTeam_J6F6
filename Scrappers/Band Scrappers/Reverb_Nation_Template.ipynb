{
 "cells": [
  {
   "cell_type": "code",
   "execution_count": 43,
   "metadata": {},
   "outputs": [],
   "source": [
    "from selenium import webdriver\n",
    "from selenium.webdriver.chrome.options import Options\n",
    "from bs4 import BeautifulSoup as BS\n",
    "\n",
    "import time as time\n",
    "from dateutil.parser import parse\n",
    "from dateutil.relativedelta import relativedelta\n",
    "import datetime\n",
    "import os\n",
    "import json\n",
    "\n",
    "from OhmicityShared import ohmicity_shared\n",
    "from selenium.webdriver.common.keys import Keys\n",
    "from webdriver_manager.chrome import ChromeDriverManager\n",
    "from selenium.webdriver.common.by import By\n",
    "from selenium.webdriver.support.ui import WebDriverWait\n",
    "from selenium.webdriver.support import expected_conditions as EC"
   ]
  },
  {
   "cell_type": "code",
   "execution_count": 44,
   "metadata": {},
   "outputs": [],
   "source": [
    "url_array = [\n",
    "    'https://www.reverbnation.com/shevonnephilidor/shows'\n",
    "]\n",
    "\n"
   ]
  },
  {
   "cell_type": "code",
   "execution_count": 45,
   "metadata": {},
   "outputs": [
    {
     "name": "stderr",
     "output_type": "stream",
     "text": [
      "/var/folders/qj/lf30psn544jbkxz0g333d31m0000gn/T/ipykernel_18039/1829086445.py:4: DeprecationWarning: executable_path has been deprecated, please pass in a Service object\n",
      "  driver = webdriver.Chrome(executable_path= '/Volumes/Work/Face2Face/Xity/streetTeam/Scrappers/chromedriver', options = options)\n"
     ]
    },
    {
     "data": {
      "text/plain": [
       "'driver = webdriver.Chrome(ChromeDriverManager().install())'"
      ]
     },
     "execution_count": 45,
     "metadata": {},
     "output_type": "execute_result"
    }
   ],
   "source": [
    "options = Options()\n",
    "options.headless = True\n",
    "\n",
    "driver = webdriver.Chrome(executable_path= '/Volumes/Work/Face2Face/Xity/streetTeam/Scrappers/chromedriver', options = options)\n",
    "'''driver = webdriver.Chrome(ChromeDriverManager().install())'''"
   ]
  },
  {
   "cell_type": "code",
   "execution_count": 46,
   "metadata": {},
   "outputs": [
    {
     "name": "stdout",
     "output_type": "stream",
     "text": [
      "Ruby's Elixir\n",
      "Suwannee Music Park\n",
      "Sparkman Wharf\n",
      "Localtopia\n",
      "Ruby's Elixir\n",
      "Ruby's Elixir\n",
      "Ruby's Elixir\n",
      "Ruby's Elixir\n",
      "Ruby's Elixir\n",
      "Ruby's Elixir\n",
      "Shevonne Philidor Complete!\n",
      "Reverb Nation Complete!\n"
     ]
    }
   ],
   "source": [
    "for url in url_array:\n",
    "       showDict = {}\n",
    "       shows = {}\n",
    "       shows_array = []\n",
    "\n",
    "       driver.get(url)\n",
    "       soup = BS(driver.page_source, 'lxml')\n",
    "\n",
    "       band_name = soup.find('h1').text.strip()\n",
    "       whole = soup.find('div', class_= 'small-12 columns')\n",
    "\n",
    "       all_shows = whole.find_all('div', class_='full-width py4 px1-for-medium-up relative clearfix show-card')\n",
    "\n",
    "       for show in all_shows:\n",
    "              venue_name = show.find('span', class_='row bold ellipsis ng-binding ng-scope').text.strip()\n",
    "              if any([x in venue_name for x in ohmicity_shared.venue_array]): \n",
    "                     pass\n",
    "              else:\n",
    "                     continue\n",
    "\n",
    "              '''DATE'''\n",
    "              month_day = show.find('div', class_= 'ellipsis bold ng-binding').text.strip()\n",
    "              show_time = show.find('span', class_= 'ng-binding ng-scope').text\n",
    "\n",
    "              raw_time = month_day + \" \" + show_time\n",
    "              this_time = parse(raw_time)\n",
    "              date_string = '{:%b %d, %Y %-I:%M%p}'.format(this_time)\n",
    "\n",
    "              print(date_string) \n",
    "\n",
    "              showDict['venue'] = venue_name\n",
    "              showDict['band'] = band_name\n",
    "              showDict['dateString'] = date_string\n",
    "              \n",
    "              shows_array \n",
    "              shows['shows'] = shows_array\n",
    "\n",
    "\n",
    "\n",
    "       # %%\n",
    "       save_path = ohmicity_shared.band_data_path\n",
    "       file_name = band_name + '.json'\n",
    "       complete_name = os.path.join(save_path, file_name)\n",
    "\n",
    "       file = open(complete_name, 'w')\n",
    "       file.write(json.dumps(shows, indent = 2))\n",
    "       file.close()\n",
    "       print(f\"{band_name} Complete!\")\n",
    "\n",
    "driver.quit()\n",
    "print('Reverb Nation Complete!')"
   ]
  },
  {
   "cell_type": "code",
   "execution_count": null,
   "metadata": {},
   "outputs": [],
   "source": []
  }
 ],
 "metadata": {
  "interpreter": {
   "hash": "b91ca056484beb984e2554c511c4b2e93f3b888dbd7f948ad90d8b3ad44cb3d1"
  },
  "kernelspec": {
   "display_name": "Python 3.10.1 64-bit ('xity_band_scrappers_env': venv)",
   "language": "python",
   "name": "python3"
  },
  "language_info": {
   "codemirror_mode": {
    "name": "ipython",
    "version": 3
   },
   "file_extension": ".py",
   "mimetype": "text/x-python",
   "name": "python",
   "nbconvert_exporter": "python",
   "pygments_lexer": "ipython3",
   "version": "3.10.1"
  },
  "orig_nbformat": 4
 },
 "nbformat": 4,
 "nbformat_minor": 2
}
