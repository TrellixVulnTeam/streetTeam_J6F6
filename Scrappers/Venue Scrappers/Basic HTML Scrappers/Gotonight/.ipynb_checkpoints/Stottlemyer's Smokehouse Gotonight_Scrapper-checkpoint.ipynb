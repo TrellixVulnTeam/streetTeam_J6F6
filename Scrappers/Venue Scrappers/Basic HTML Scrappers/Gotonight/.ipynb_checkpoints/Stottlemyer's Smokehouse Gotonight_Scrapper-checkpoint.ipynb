{
 "cells": [
  {
   "cell_type": "code",
   "execution_count": 1,
   "id": "1e2c9b88",
   "metadata": {},
   "outputs": [],
   "source": [
    "import json\n",
    "import os\n",
    "import datetime\n",
    "from posixpath import commonpath, splitext\n",
    "from bs4.element import NavigableString\n",
    "from dateutil.parser import parse\n",
    "from sys import excepthook\n",
    "from bs4 import BeautifulSoup\n",
    "import requests\n",
    "import uuid\n",
    "import re\n",
    "from requests import exceptions"
   ]
  },
  {
   "cell_type": "code",
   "execution_count": 2,
   "id": "b22a7222",
   "metadata": {},
   "outputs": [],
   "source": [
    "#From local file\n",
    "#with open('GoTonight.html') as html_file:\n",
    "#    soup = BeautifulSoup(html_file, 'lxml')\n",
    "\n",
    "#From Website\n",
    "source = requests.get('https://gotonight.com/venues/venue/?id=9347').text\n",
    "soup = BeautifulSoup(source, 'lxml')"
   ]
  },
  {
   "cell_type": "code",
   "execution_count": 3,
   "id": "bddeae06",
   "metadata": {},
   "outputs": [],
   "source": [
    "#Removes italic text (usually text on top of show dates)\n",
    "for i in soup('i'):\n",
    "    i.decompose()\n",
    "    \n",
    "#Removes emphisised text (usually text on bottom of show dates)\n",
    "for em in soup('em'):\n",
    "    em.decompose()"
   ]
  },
  {
   "cell_type": "code",
   "execution_count": 4,
   "id": "8912208f",
   "metadata": {},
   "outputs": [],
   "source": [
    "#Data Model Properties\n",
    "venue_name = \"Stottlemyer's Smokehouse\"\n",
    "band_name = \"**********\"\n",
    "date_string = ''\n",
    "array = []"
   ]
  },
  {
   "cell_type": "code",
   "execution_count": 5,
   "id": "285602d4",
   "metadata": {},
   "outputs": [],
   "source": [
    "#Grab a container or container type\n",
    "table = soup.find('table', class_ = 'events-table')\n",
    "tbody = table.find('tbody')"
   ]
  },
  {
   "cell_type": "code",
   "execution_count": 6,
   "id": "086a4189",
   "metadata": {},
   "outputs": [],
   "source": [
    "#Venue Name\n",
    "for eventauto in tbody.find_all('tr', class_ = 'eventauto'):\n",
    "    string_array = []\n",
    "    a = eventauto\n",
    "\n",
    "    temp_band = ''\n",
    "    if not a.a:\n",
    "        temp_band = a.b\n",
    "\n",
    "    if not a.b:\n",
    "        temp_band = a.a\n",
    "\n",
    "    band_name = temp_band.text\n",
    "    \n",
    "    #Band Name Fixes\n",
    "    if band_name == '! Smudgekitten !':\n",
    "        band_name = 'Smudgekitten'\n",
    "\n",
    "#Show Time\n",
    "    for b in eventauto.find_all('td')[1]:\n",
    "        #Make every line of text a string\n",
    "        text = str(b.string)\n",
    "\n",
    "        #Remove white space from strings\n",
    "        strip = text.strip()\n",
    "\n",
    "        #Append each string into an array for easy access\n",
    "        string_array.append(strip)\n",
    "\n",
    "#Multiple remove loops because Python ends the loop once the condition is met... STUPID!!!\n",
    "    for i in string_array:\n",
    "        if i == '' or i == 'None':\n",
    "            string_array.remove(i)\n",
    "    \n",
    "    for i in string_array:\n",
    "        if i == '' or i == 'None':\n",
    "            string_array.remove(i)\n",
    "\n",
    "#Clean Up Date String\n",
    "    raw_date = string_array[0] + ' ' + string_array[1]\n",
    "    remove_from_date = '(pn|pm|am|\"an\"|p.m.|a.m.|mon, |tue, |wed, |thu, |fri, |sat, |sun, )'\n",
    "    cleaned_date = re.sub(rf'{remove_from_date}', '', raw_date, flags=re.IGNORECASE) #the 'f' and {} were needed for string interpolation\n",
    "\n",
    "    fixed_midnight = re.compile(re.escape('midnight'), re.IGNORECASE)\n",
    "    fixed = fixed_midnight.sub('12am', cleaned_date)\n",
    "\n",
    "    stupidity1 = fixed.replace('Pat Walsh / TrinityON80 ', '')\n",
    "    split = stupidity1.split('-', 1)[0]\n",
    "    stripped = split.strip()\n",
    "    add_pm = ''\n",
    "\n",
    "    if stripped == '':\n",
    "        continue\n",
    "    else:\n",
    "        add_pm = stripped + 'pm'\n",
    "\n",
    "#Parse Date\n",
    "    try:\n",
    "        #print(add_pm)\n",
    "        show_time = parse(add_pm)\n",
    "        date_string = '{:%b %d, %Y %-I:%M%p}'.format(show_time)\n",
    "    \n",
    "    except AttributeError as ex:\n",
    "        print(venue_name + ': GT PARSE TIME ERROR', ex)\n",
    "\n",
    "#Create Model and Add it to the Array\n",
    "    try:\n",
    "        showDict = {}\n",
    "        showDict['venue'] = venue_name\n",
    "        showDict['band'] = band_name\n",
    "        showDict['dateString'] = date_string\n",
    "        array.append(showDict)\n",
    "\n",
    "    except AttributeError as ex:\n",
    "        print(venue_name + ': DATA MODEL ERROR', ex)\n"
   ]
  },
  {
   "cell_type": "code",
   "execution_count": 7,
   "id": "3f2598d3",
   "metadata": {},
   "outputs": [
    {
     "name": "stdout",
     "output_type": "stream",
     "text": [
      "Complete!\n"
     ]
    }
   ],
   "source": [
    "#Save To json file\n",
    "save_path = '/Users/nathanhedgeman/Documents/Scrappers/Show Data'\n",
    "file_name = venue_name + '.json'\n",
    "complete_name = os.path.join(save_path, file_name)\n",
    "\n",
    "file = open(complete_name, 'w')\n",
    "file.write(json.dumps(array, indent = 2))\n",
    "file.close()\n",
    "print(\"Complete!\")"
   ]
  }
 ],
 "metadata": {
  "kernelspec": {
   "display_name": "Python 3",
   "language": "python",
   "name": "python3"
  },
  "language_info": {
   "codemirror_mode": {
    "name": "ipython",
    "version": 3
   },
   "file_extension": ".py",
   "mimetype": "text/x-python",
   "name": "python",
   "nbconvert_exporter": "python",
   "pygments_lexer": "ipython3",
   "version": "3.8.8"
  }
 },
 "nbformat": 4,
 "nbformat_minor": 5
}
