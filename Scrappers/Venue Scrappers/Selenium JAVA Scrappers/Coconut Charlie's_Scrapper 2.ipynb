{
 "cells": [
  {
   "cell_type": "code",
   "execution_count": 1,
   "id": "bacd747b",
   "metadata": {},
   "outputs": [],
   "source": [
    "from selenium import webdriver\n",
    "from selenium.webdriver.chrome.options import Options\n",
    "from bs4 import BeautifulSoup as BS\n",
    "\n",
    "import time as Time\n",
    "import re\n",
    "from dateutil.parser import parse\n",
    "import datetime\n",
    "import os\n",
    "import json\n",
    "\n",
    "#For keyboard key programmatic control\n",
    "from selenium.webdriver.common.keys import Keys\n",
    "from webdriver_manager.chrome import ChromeDriverManager\n",
    "from selenium.webdriver.common.by import By\n",
    "from selenium.webdriver.support.ui import WebDriverWait\n",
    "from selenium.webdriver.support import expected_conditions as EC"
   ]
  },
  {
   "cell_type": "code",
   "execution_count": 2,
   "id": "7bb1b49a",
   "metadata": {},
   "outputs": [],
   "source": [
    "#Properties\n",
    "url = \"https://plugin.eventscalendar.co/widget.html?pageId=eog1c&compId=comp-kiumcfk0&viewerCompId=comp-kiumcfk0&siteRevision=230&viewMode=site&deviceType=desktop&locale=en&tz=America%2FNew_York&regionalLanguage=en&width=980&height=598&instance=RFhWqjMr3NMY4DCZtqXhI4QOJ-Z3kSXQmJvXwivrsgw.eyJpbnN0YW5jZUlkIjoiYWY1MTI0ZTgtMWQ3YS00YmVjLWExNmMtMzQ5YzI3ZDUzNGRlIiwiYXBwRGVmSWQiOiIxMzNiYjExZS1iM2RiLTdlM2ItNDliYy04YWExNmFmNzJjYWMiLCJzaWduRGF0ZSI6IjIwMjEtMTAtMzFUMDE6MDE6MDEuMTgyWiIsInZlbmRvclByb2R1Y3RJZCI6InByZW1pdW0iLCJkZW1vTW9kZSI6ZmFsc2UsImFpZCI6Ijk0MmVlMjA2LWI1OTctNDU2Ni1hMzE1LTI3YmJhMjZjZDY4MSIsInNpdGVPd25lcklkIjoiMTA0OWY1MjEtZGM2MS00ODdkLTgzNmQtMmM5N2UwMTljODdmIn0&currency=USD&currentCurrency=USD&commonConfig=%7B%22brand%22:%22wix%22,%22bsi%22:%2273584552-62d1-4a21-995a-a6d4f631f332%7C1%22,%22BSI%22:%2273584552-62d1-4a21-995a-a6d4f631f332%7C1%22%7D&vsi=8fcac177-1c1a-411b-ac18-9e14336e8e3a\"\n",
    "time = Time\n",
    "shows = []\n",
    "venue_array = []"
   ]
  },
  {
   "cell_type": "code",
   "execution_count": 3,
   "id": "8bc86ef3-2561-42ec-8140-b366cf5b57cd",
   "metadata": {},
   "outputs": [],
   "source": [
    "def run():\n",
    "    #Navigate Site with Selenium\n",
    "    driver = webdriver.Chrome(ChromeDriverManager().install())\n",
    "    driver.get(url)\n",
    "    Time.sleep(1)\n",
    "\n",
    "    #Get Data with BeautifulSoup\n",
    "    venue_name = \"Coconut Charlie's Beach Bar & Grill\"\n",
    "    band_name = ''\n",
    "    date_string = ''\n",
    "\n",
    "\n",
    "    html = driver.page_source\n",
    "    soup = BS(html)\n",
    "\n",
    "    month = soup.find_all('div', class_='day ng-scope')\n",
    "\n",
    "    for day in month:\n",
    "        \n",
    "        test_date = day.find('div', class_='aria-only ng-binding ng-scope')\n",
    "        if not test_date:\n",
    "            continue\n",
    "        \n",
    "        raw_date = test_date.text\n",
    "        clean1 = raw_date.split(',')\n",
    "        general_date = clean1[1] + ',' + clean1[2]\n",
    "        \n",
    "        for event in day.find_all('div', class_=\"ng-scope\"):\n",
    "            \n",
    "            #Show Time\n",
    "            test_time = event.find('span', class_='event-time ng-binding ng-scope')\n",
    "            if not test_time:\n",
    "                continue\n",
    "\n",
    "            time = test_time.text\n",
    "            full_date = general_date + ' ' + time\n",
    "\n",
    "            date = parse(full_date)\n",
    "            date_string = '{:%b %d, %Y %-I:%M%p}'.format(date)\n",
    "            \n",
    "            #Band\n",
    "            test_band = event.find('span', class_='event-title-text ng-binding')\n",
    "            if not test_band:\n",
    "                continue\n",
    "            band_name = test_band.text\n",
    "\n",
    "            try:\n",
    "                showDict = {}\n",
    "                showDict['band'] = band_name\n",
    "                showDict['dateString'] = date_string\n",
    "                shows.append(showDict)\n",
    "\n",
    "            except AttributeError as ex:\n",
    "                print('Error', ex)\n",
    "\n",
    "\n",
    "    driver.quit\n",
    "    \n",
    "    #Create JSON Structure\n",
    "    venDict = {}\n",
    "    venDict['venueName'] = venue_name\n",
    "    venDict['shows'] = shows\n",
    "    \n",
    "    venue_array = [venDict]\n",
    "    finalDict = {}\n",
    "    finalDict['venue'] = venue_array\n",
    "\n",
    "    #Save To json file\n",
    "    save_path = '/Users/nathanhedgeman/Documents/Scrappers/Show Data'\n",
    "    file_name = venue_name + '.json'\n",
    "    complete_name = os.path.join(save_path, file_name)\n",
    "\n",
    "    file = open(complete_name, 'w')\n",
    "    file.write(json.dumps(finalDict, indent = 2))\n",
    "    file.close()\n",
    "    print(\"Complete!\")\n",
    "\n"
   ]
  },
  {
   "cell_type": "code",
   "execution_count": 4,
   "id": "d9c33683",
   "metadata": {},
   "outputs": [
    {
     "name": "stderr",
     "output_type": "stream",
     "text": [
      "\n",
      "\n",
      "====== WebDriver manager ======\n",
      "Current google-chrome version is 98.0.4758\n",
      "Get LATEST chromedriver version for 98.0.4758 google-chrome\n",
      "Driver [/Users/nathanhedgeman/.wdm/drivers/chromedriver/mac64/98.0.4758.80/chromedriver] found in cache\n",
      "/var/folders/qj/lf30psn544jbkxz0g333d31m0000gn/T/ipykernel_38368/1380455670.py:3: DeprecationWarning: executable_path has been deprecated, please pass in a Service object\n",
      "  driver = webdriver.Chrome(ChromeDriverManager().install())\n"
     ]
    },
    {
     "name": "stdout",
     "output_type": "stream",
     "text": [
      "Complete!\n"
     ]
    }
   ],
   "source": [
    "\n",
    "run()\n"
   ]
  }
 ],
 "metadata": {
  "interpreter": {
   "hash": "40d3a090f54c6569ab1632332b64b2c03c39dcf918b08424e98f38b5ae0af88f"
  },
  "kernelspec": {
   "display_name": "Python 3 (ipykernel)",
   "language": "python",
   "name": "python3"
  },
  "language_info": {
   "codemirror_mode": {
    "name": "ipython",
    "version": 3
   },
   "file_extension": ".py",
   "mimetype": "text/x-python",
   "name": "python",
   "nbconvert_exporter": "python",
   "pygments_lexer": "ipython3",
   "version": "3.10.1"
  }
 },
 "nbformat": 4,
 "nbformat_minor": 5
}
