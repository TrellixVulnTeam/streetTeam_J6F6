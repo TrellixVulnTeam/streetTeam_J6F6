{
 "cells": [
  {
   "cell_type": "code",
   "execution_count": 10,
   "id": "bacd747b",
   "metadata": {},
   "outputs": [],
   "source": [
    "from selenium import webdriver\n",
    "from selenium.webdriver.chrome.options import Options\n",
    "from bs4 import BeautifulSoup as BS\n",
    "\n",
    "import time as Time\n",
    "import re\n",
    "from dateutil.parser import parse\n",
    "import datetime\n",
    "import os\n",
    "import json\n",
    "\n",
    "#For keyboard key programmatic control\n",
    "from selenium.webdriver.common.keys import Keys\n",
    "from webdriver_manager.chrome import ChromeDriverManager\n",
    "from selenium.webdriver.common.by import By\n",
    "from selenium.webdriver.support.ui import WebDriverWait\n",
    "from selenium.webdriver.support import expected_conditions as EC\n"
   ]
  },
  {
   "cell_type": "code",
   "execution_count": 6,
   "id": "7bb1b49a",
   "metadata": {},
   "outputs": [],
   "source": [
    "#Properties\n",
    "idk = \"https://www.englewoodsondearborn.com/music-calendar\"\n",
    "time = Time\n",
    "\n",
    "venue_name = 'Englewoods On Dearborn'\n",
    "band_name = ''\n",
    "date_string = ''\n",
    "\n",
    "shows = []\n",
    "venue_array = []\n",
    "\n",
    "ex_array = [\n",
    "    '2022', 'Closed'\n",
    "]"
   ]
  },
  {
   "cell_type": "code",
   "execution_count": 8,
   "id": "14eb709c",
   "metadata": {},
   "outputs": [],
   "source": [
    "def run():\n",
    "    chrome_options = Options()\n",
    "    chrome_options.add_argument(\"--headless\") \n",
    "    chrome_options.add_argument('--no-sandbox')\n",
    "    driver = webdriver.Chrome(options=chrome_options, executable_path='/Users/nathanhedgeman/Documents/Scrappers/chromedriver')\n",
    "    driver.get(idk)\n",
    "    Time.sleep(3)\n",
    "    driver.switch_to.frame(driver.find_element_by_xpath('//*[@id=\"comp-jqsjus6s\"]/iframe'))\n",
    "    html = driver.page_source\n",
    "    driver.quit()\n",
    "    soup = BS(html, 'lxml')\n",
    "    events = soup.find_all('table', class_='day ng-scope')\n",
    "\n",
    "    for event in events:\n",
    "        name = event.find(class_=\"event-title link-container event-title-font break-words\")\n",
    "        band_name = name.text.strip()\n",
    "        \n",
    "        if any([x in band_name for x in ex_array]):\n",
    "            continue\n",
    "\n",
    "        raw_date = event.find(class_='when material-icon date ng-binding').text.strip()\n",
    "        raw_time = event.find(class_='when material-icon time ng-binding ng-scope').text.strip().split(sep='-', maxsplit=1)[0]\n",
    "        show_date = raw_date + ' ' + raw_time\n",
    "\n",
    "        final_date = parse(show_date)\n",
    "        date_string = '{:%b %d, %Y %-I:%M%p}'.format(final_date)\n",
    "\n",
    "        try:\n",
    "            showDict = {}\n",
    "            showDict['band'] = band_name\n",
    "            showDict['dateString'] = date_string\n",
    "            shows.append(showDict)\n",
    "\n",
    "        except:\n",
    "            print('ENGLEWOOD ON DEARBORN: ERROR')\n",
    "    \n",
    "    #Save To json file\n",
    "    '''\n",
    "    '''\n",
    "    venDict = {}\n",
    "    venDict['venueName'] = venue_name\n",
    "    venDict['shows'] = shows\n",
    "\n",
    "    venue_array = [venDict]\n",
    "    finalDict = {}\n",
    "    finalDict['venue'] = venue_array\n",
    "\n",
    "    #Save To json file\n",
    "    save_path = '/Users/nathanhedgeman/Documents/Scrappers/Show Data'\n",
    "    file_name = venue_name + '.json'\n",
    "    complete_name = os.path.join(save_path, file_name)\n",
    "\n",
    "    file = open(complete_name, 'w')\n",
    "    file.write(json.dumps(finalDict, indent = 2))\n",
    "    file.close()\n",
    "    print(\"Complete!\")"
   ]
  },
  {
   "cell_type": "code",
   "execution_count": 9,
   "id": "adc13857",
   "metadata": {},
   "outputs": [
    {
     "name": "stderr",
     "output_type": "stream",
     "text": [
      "<ipython-input-8-7adae1baedc1>:5: DeprecationWarning: executable_path has been deprecated, please pass in a Service object\n",
      "  driver = webdriver.Chrome(options=chrome_options, executable_path='/Users/nathanhedgeman/Documents/Scrappers/chromedriver')\n",
      "<ipython-input-8-7adae1baedc1>:8: DeprecationWarning: find_element_by_* commands are deprecated. Please use find_element() instead\n",
      "  driver.switch_to.frame(driver.find_element_by_xpath('//*[@id=\"comp-jqsjus6s\"]/iframe'))\n"
     ]
    },
    {
     "name": "stdout",
     "output_type": "stream",
     "text": [
      "Complete!\n"
     ]
    }
   ],
   "source": [
    "run()"
   ]
  }
 ],
 "metadata": {
  "interpreter": {
   "hash": "53258a41d29b011a261b631d05e665c4bf68087cfc6dcd67900a11497b4e4907"
  },
  "kernelspec": {
   "display_name": "Python 3.8.8 64-bit (conda)",
   "name": "python3"
  },
  "language_info": {
   "codemirror_mode": {
    "name": "ipython",
    "version": 3
   },
   "file_extension": ".py",
   "mimetype": "text/x-python",
   "name": "python",
   "nbconvert_exporter": "python",
   "pygments_lexer": "ipython3",
   "version": "3.8.8"
  }
 },
 "nbformat": 4,
 "nbformat_minor": 5
}
