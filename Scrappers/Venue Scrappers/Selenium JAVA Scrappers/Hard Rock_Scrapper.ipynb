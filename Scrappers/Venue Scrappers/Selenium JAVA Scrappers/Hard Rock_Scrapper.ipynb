{
 "cells": [
  {
   "cell_type": "code",
   "execution_count": 2,
   "id": "bacd747b",
   "metadata": {},
   "outputs": [],
   "source": [
    "from selenium import webdriver\n",
    "from selenium.webdriver.chrome.options import Options\n",
    "from bs4 import BeautifulSoup as BS\n",
    "\n",
    "import time as Time\n",
    "import re\n",
    "from dateutil.parser import parse\n",
    "import datetime\n",
    "import os\n",
    "import json\n",
    "\n",
    "#For keyboard key programmatic control\n",
    "from selenium.webdriver.common.keys import Keys\n",
    "from webdriver_manager.chrome import ChromeDriverManager\n",
    "from selenium.webdriver.common.by import By\n",
    "from selenium.webdriver.support.ui import WebDriverWait\n",
    "from selenium.webdriver.support import expected_conditions as EC\n"
   ]
  },
  {
   "cell_type": "code",
   "execution_count": 3,
   "id": "7bb1b49a",
   "metadata": {},
   "outputs": [],
   "source": [
    "#Properties\n",
    "url = \"https://www.seminolehardrocktampa.com/events#d_event%20type=Live%20Performance&d_v=1\"\n",
    "time = Time\n",
    "venue_name = 'Seminole Hard Rock Hotel & Casino'\n",
    "shows = []\n",
    "venue_array = []\n",
    "\n",
    "ex_array = [\n",
    "    'DJ', 'Drag'\n",
    "]"
   ]
  },
  {
   "cell_type": "code",
   "execution_count": 4,
   "id": "2dc46b1d",
   "metadata": {},
   "outputs": [],
   "source": [
    "def run():\n",
    "    chrome_options = Options()\n",
    "    chrome_options.add_argument(\"--headless\") \n",
    "    chrome_options.add_argument('--no-sandbox')\n",
    "    driver = webdriver.Chrome(options=chrome_options, executable_path='/Volumes/Work/Face2Face/Xity/streetTeam/Scrappers/chromedriver')\n",
    "    driver.get(url)\n",
    "\n",
    "    try:\n",
    "        WebDriverWait(driver, 60).until(EC.presence_of_element_located((By.XPATH, '//*[@id=\"section-1\"]/li[2]/div')))\n",
    "        \n",
    "    except:\n",
    "        print(\"Page not loaded yet\")\n",
    "\n",
    "    html = driver.page_source\n",
    "    driver.quit()\n",
    "    \n",
    "    soup = BS(html, 'lxml')\n",
    "    year = datetime.datetime.now().date().strftime('%Y')\n",
    "    year_to_check = '2022'\n",
    "    all_data = soup.find(class_='pagination-list active')\n",
    "\n",
    "    all_shows = all_data.find_all('li')\n",
    "\n",
    "    for show in all_shows:\n",
    "        event_type = show.find(class_='listCCard__place__venue').text\n",
    "        \n",
    "        if 'Hard Rock Event Center' in event_type:\n",
    "            continue\n",
    "        \n",
    "        if 'Hard Rock Event Center' in event_type:\n",
    "            continue\n",
    "\n",
    "        band_name = show.find('h2').text\n",
    "\n",
    "        if any([x in band_name for x in ex_array]): \n",
    "                continue\n",
    "\n",
    "        show_data = show.find(class_=\"listCCard__time__wrap\")\n",
    "\n",
    "        check_date = show_data.text.split(' |')[0].strip()\n",
    "        \n",
    "        if year_to_check in check_date:\n",
    "            good_date = check_date.split(', ',1)[1]\n",
    "            show_time = show_data.text.split(' |')[1].strip().split(' -')[0]\n",
    "\n",
    "            if show_time == 'Noon':\n",
    "                show_time = '12:00PM'\n",
    "\n",
    "            full_time = f'{good_date} {show_time}'\n",
    "\n",
    "            try:\n",
    "                this_time = parse(full_time)\n",
    "                date_string = '{:%b %d, %Y %-I:%M%p}'.format(this_time)\n",
    "            \n",
    "            except:\n",
    "                continue\n",
    "            \n",
    "        else:\n",
    "            show_date = show_data.text.split(' |')[0].split(',')[1].strip()\n",
    "            show_time = show_data.text.split(' |')[1].strip().split(' -')[0]\n",
    "            \n",
    "            if show_time == 'Noon':\n",
    "                show_time = '12:00PM'\n",
    "\n",
    "            full_time = f'{show_date}, {year} {show_time}'\n",
    "\n",
    "            try:\n",
    "                this_time = parse(full_time)\n",
    "                date_string = '{:%b %d, %Y %-I:%M%p}'.format(this_time)\n",
    "            \n",
    "            except:\n",
    "                continue\n",
    "\n",
    "        try:\n",
    "            showDict = {}\n",
    "            showDict['band'] = band_name\n",
    "            showDict['dateString'] = date_string\n",
    "            shows.append(showDict)\n",
    "\n",
    "        except:\n",
    "            print('Error making dictionary')\n",
    "\n",
    "    #Save To json file\n",
    "    '''\n",
    "    '''\n",
    "    venDict = {}\n",
    "    venDict['venueName'] = venue_name\n",
    "    venDict['shows'] = shows\n",
    "\n",
    "    venue_array = [venDict]\n",
    "    finalDict = {}\n",
    "    finalDict['venue'] = venue_array\n",
    "\n",
    "    #Save To json file\n",
    "    save_path = '/Users/nathanhedgeman/Documents/Scrappers/Show Data'\n",
    "    file_name = venue_name + '.json'\n",
    "    complete_name = os.path.join(save_path, file_name)\n",
    "\n",
    "    file = open(complete_name, 'w')\n",
    "    file.write(json.dumps(finalDict, indent = 2))\n",
    "    file.close()\n",
    "    print(\"Complete!\")"
   ]
  },
  {
   "cell_type": "code",
   "execution_count": 5,
   "id": "1c86d487-c517-439c-bc31-b7e2b0a4f7fc",
   "metadata": {},
   "outputs": [
    {
     "name": "stderr",
     "output_type": "stream",
     "text": [
      "<ipython-input-4-edec3c333dcd>:5: DeprecationWarning: executable_path has been deprecated, please pass in a Service object\n",
      "  driver = webdriver.Chrome(options=chrome_options, executable_path='/Users/nathanhedgeman/Documents/Scrappers/chromedriver')\n"
     ]
    },
    {
     "name": "stdout",
     "output_type": "stream",
     "text": [
      "Complete!\n"
     ]
    }
   ],
   "source": [
    "run()"
   ]
  }
 ],
 "metadata": {
  "interpreter": {
   "hash": "53258a41d29b011a261b631d05e665c4bf68087cfc6dcd67900a11497b4e4907"
  },
  "kernelspec": {
   "display_name": "Python 3.8.8 64-bit (conda)",
   "name": "python3"
  },
  "language_info": {
   "codemirror_mode": {
    "name": "ipython",
    "version": 3
   },
   "file_extension": ".py",
   "mimetype": "text/x-python",
   "name": "python",
   "nbconvert_exporter": "python",
   "pygments_lexer": "ipython3",
   "version": "3.8.8"
  }
 },
 "nbformat": 4,
 "nbformat_minor": 5
}
