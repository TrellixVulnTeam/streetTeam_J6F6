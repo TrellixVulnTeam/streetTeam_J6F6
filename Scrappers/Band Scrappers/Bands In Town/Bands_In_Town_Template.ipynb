{
 "cells": [
  {
   "cell_type": "code",
   "execution_count": 72,
   "metadata": {},
   "outputs": [],
   "source": [
    "from selenium import webdriver\n",
    "from selenium.webdriver.chrome.options import Options\n",
    "from bs4 import BeautifulSoup as BS\n",
    "\n",
    "import time as time\n",
    "from dateutil.parser import parse\n",
    "from dateutil.relativedelta import relativedelta\n",
    "import datetime\n",
    "import os\n",
    "import json\n",
    "\n",
    "from selenium.webdriver.common.keys import Keys\n",
    "from webdriver_manager.chrome import ChromeDriverManager\n",
    "from selenium.webdriver.common.by import By\n",
    "from selenium.webdriver.support.ui import WebDriverWait\n",
    "from selenium.webdriver.support import expected_conditions as EC"
   ]
  },
  {
   "cell_type": "code",
   "execution_count": 73,
   "metadata": {},
   "outputs": [
    {
     "name": "stderr",
     "output_type": "stream",
     "text": [
      "\n",
      "\n",
      "====== WebDriver manager ======\n",
      "Current google-chrome version is 97.0.4692\n",
      "Get LATEST chromedriver version for 97.0.4692 google-chrome\n",
      "Driver [/Users/nathanhedgeman/.wdm/drivers/chromedriver/mac64/97.0.4692.71/chromedriver] found in cache\n",
      "/var/folders/qj/lf30psn544jbkxz0g333d31m0000gn/T/ipykernel_14356/453488655.py:3: DeprecationWarning: executable_path has been deprecated, please pass in a Service object\n",
      "  driver = webdriver.Chrome(ChromeDriverManager().install())\n"
     ]
    }
   ],
   "source": [
    "url = 'https://www.bandsintown.com/'\n",
    "\n",
    "driver = webdriver.Chrome(ChromeDriverManager().install())\n",
    "driver.get(url)"
   ]
  },
  {
   "cell_type": "code",
   "execution_count": 74,
   "metadata": {},
   "outputs": [],
   "source": [
    "links_array = []\n",
    "shows_array = []\n",
    "total_array = []\n",
    "\n",
    "band_name = '****************'"
   ]
  },
  {
   "cell_type": "code",
   "execution_count": 75,
   "metadata": {},
   "outputs": [],
   "source": [
    "venue_array = [\n",
    "    '210', \"Blue Rooster\", 'Burger-ish', \"River Roo\", \"Cage Brewing\", \"Cask & Ale\", \"Cask and Ale\", \"Coconut\", \"Cottonmouth\", \"Daiquiri Deck Raw Bar Siesta Key\", \"Darwin Brewing\", \"Del Frisco\", \"Dockside\", \"Drunken Clam\",\n",
    "    \"Englewoods On Dearborn\", \"Floridian Social Club\", \"Flute & Dram\", \"Gator Club\", \"Gilligan\", \"Green Iguana\", \"Hideaway\", \"Independent Bar St Petersburg\", \"Independent Bar and Cafe Tampa\", \"Island Time Bar and Grill\",\n",
    "    \"Joyland\", \"Mad Hatters\", \"Marina Jack\", \"Mattison's City Grille\", \"Mattison's Riverwalk Grille\", \"Motorworks Brewing\", \"New World Brewery\", \"O'Brien\", \"Pete's Place North\", \"Ringside Cafe\", \"Ruby's Elixir\",\n",
    "    \"SandBar\", \"Hard Rock\", \"Sharky\", \"Siesta Key Oyster Bar\", \"Skipper\", \"St Pete Side Lot\", \"Stottlemyer\", \"Straggler\", \"TJ Carney\", \"Tamiami Tap\", \"The Castle\", \"The Pub Tampa Bay\", \"The Tavern At Bayboro\",\n",
    "    \"Whiskey Barrel\", \"Whiskey Wings - St Peterburg\", \"Toasted Monkey\", \"White Elephant Pub\", \"Wild Rover Brewery\", \n",
    "]"
   ]
  },
  {
   "cell_type": "code",
   "execution_count": 76,
   "metadata": {},
   "outputs": [],
   "source": [
    "show_more_button = driver.find_element(By.CLASS_NAME, '_1GaeyllMT79LYiH-6HrT56')\n",
    "show_more_button.click()"
   ]
  },
  {
   "cell_type": "code",
   "execution_count": 77,
   "metadata": {},
   "outputs": [],
   "source": [
    "all_events = driver.find_element(By.CLASS_NAME, 'qznXLxZY-XWcgeMFMR1So')\n",
    "\n",
    "div = all_events.find_element(By.TAG_NAME, 'div')\n",
    "links_tags = div.find_elements(By.TAG_NAME, 'a')\n",
    "\n",
    "for link in links_tags:\n",
    "    links_array.append(link.get_property('href'))"
   ]
  },
  {
   "cell_type": "markdown",
   "metadata": {},
   "source": [
    "links_array now filled with links to scrape"
   ]
  },
  {
   "cell_type": "code",
   "execution_count": 78,
   "metadata": {},
   "outputs": [],
   "source": [
    "for link in links_array:\n",
    "    driver.get(link)\n",
    "    \n",
    "    venue_div = driver.find_element(By.CLASS_NAME, '_2wsU7P2Nq0F2Ewki3qdVwK')\n",
    "    venue_link = venue_div.find_element(By.TAG_NAME, 'a')\n",
    "    venue_name = venue_link.text\n",
    "\n",
    "    if any([x in venue_name for x in venue_array]): \n",
    "                pass\n",
    "    else:\n",
    "                continue\n",
    "\n",
    "    show_date = driver.find_element(By.CLASS_NAME, '_1TLOSkbytCU0xipvsRNoDv').text\n",
    "    show_time = driver.find_element(By.CLASS_NAME, '_1iK6x88EqsupILFxTvC9ip').text\n",
    "    raw_time = show_date + \" \" + show_time\n",
    "\n",
    "    this_time = parse(raw_time)\n",
    "    date_string = '{:%b %d, %Y %-I:%M%p}'.format(this_time)\n",
    "\n",
    "    showDict = {}\n",
    "    showDict['venue'] = venue_name\n",
    "    showDict['band'] = band_name\n",
    "    showDict['dateString'] = date_string\n",
    "    shows_array.append(showDict)\n",
    "\n",
    "    \n",
    "\n",
    "    "
   ]
  },
  {
   "cell_type": "code",
   "execution_count": 79,
   "metadata": {},
   "outputs": [
    {
     "name": "stdout",
     "output_type": "stream",
     "text": [
      "Selwyn Birchwood Complete!\n"
     ]
    }
   ],
   "source": [
    "driver.quit()\n",
    "shows = {}\n",
    "shows['shows'] = shows_array\n",
    "\n",
    "\n",
    "\n",
    "# %%\n",
    "save_path = '/Volumes/Work/Face2Face/Xity/Scrappers/Show Data/Band Data'\n",
    "file_name = band_name + '.json'\n",
    "complete_name = os.path.join(save_path, file_name)\n",
    "\n",
    "file = open(complete_name, 'w')\n",
    "file.write(json.dumps(shows, indent = 2))\n",
    "file.close()\n",
    "print(f\"{band_name} Complete!\")"
   ]
  }
 ],
 "metadata": {
  "interpreter": {
   "hash": "6ea8130cf7079e1d90f0fb6ee152b2521b2dd9b5465fe4537a2721481496940f"
  },
  "kernelspec": {
   "display_name": "Python 3.10.1 64-bit ('xity_band_scrappers_env': venv)",
   "language": "python",
   "name": "python3"
  },
  "language_info": {
   "codemirror_mode": {
    "name": "ipython",
    "version": 3
   },
   "file_extension": ".py",
   "mimetype": "text/x-python",
   "name": "python",
   "nbconvert_exporter": "python",
   "pygments_lexer": "ipython3",
   "version": "3.10.1"
  },
  "orig_nbformat": 4
 },
 "nbformat": 4,
 "nbformat_minor": 2
}
