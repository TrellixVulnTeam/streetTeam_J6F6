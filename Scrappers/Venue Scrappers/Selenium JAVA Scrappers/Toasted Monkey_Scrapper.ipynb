{
 "cells": [
  {
   "cell_type": "code",
   "execution_count": 1,
   "id": "bacd747b",
   "metadata": {},
   "outputs": [],
   "source": [
    "from selenium import webdriver\n",
    "from selenium.webdriver.chrome.options import Options\n",
    "from bs4 import BeautifulSoup as BS\n",
    "\n",
    "import time as Time\n",
    "import re\n",
    "from dateutil.parser import parse\n",
    "import datetime\n",
    "import os\n",
    "import json\n",
    "\n",
    "#For keyboard key programmatic control\n",
    "from selenium.webdriver.common.keys import Keys\n",
    "from webdriver_manager.chrome import ChromeDriverManager\n",
    "from selenium.webdriver.common.by import By\n",
    "from selenium.webdriver.support.ui import WebDriverWait\n",
    "from selenium.webdriver.support import expected_conditions as EC"
   ]
  },
  {
   "cell_type": "code",
   "execution_count": 2,
   "id": "7bb1b49a",
   "metadata": {},
   "outputs": [],
   "source": [
    "#Properties\n",
    "url = \"https://thetoastedmonkey.com/calendar/\"\n",
    "time = Time\n",
    "venue_name = 'Toasted Monkey'\n",
    "venue_array = []\n",
    "shows = []\n",
    "ex_array = [\n",
    "    'XMAS'\n",
    "]"
   ]
  },
  {
   "cell_type": "code",
   "execution_count": 3,
   "id": "2dc46b1d",
   "metadata": {},
   "outputs": [],
   "source": [
    "def run():\n",
    "    chrome_options = Options()\n",
    "    chrome_options.add_argument(\"--headless\") \n",
    "    chrome_options.add_argument('--no-sandbox')\n",
    "    driver = webdriver.Chrome(options=chrome_options, executable_path='/Users/nathanhedgeman/Documents/Scrappers/chromedriver')\n",
    "    driver.get(url)\n",
    "\n",
    "    driver.switch_to.frame('timely_initiated_0f')\n",
    "    driver.find_element_by_xpath('/html/body/timely-calendar/div/div/div[3]/button').click()\n",
    "    driver.find_element_by_xpath('//*[@id=\"cdk-overlay-0\"]/div/div/a[4]').click()\n",
    "\n",
    "    Time.sleep(2)\n",
    "\n",
    "    html = driver.page_source\n",
    "    driver.quit()\n",
    "    soup = BS(html, 'lxml')\n",
    "\n",
    "    events = soup.find_all(class_='timely-agenda-event-header')\n",
    "    \n",
    "    for event in events:\n",
    "        band_name = event.find(class_='timely-agenda-event-title-text timely-title-text').text\n",
    "\n",
    "        '''!!!! FILTER !!!!'''\n",
    "        if any([x in band_name for x in ex_array]): \n",
    "                continue\n",
    "\n",
    "        raw_date = event.find(class_='timely-agenda-event-time ng-star-inserted').text\n",
    "\n",
    "        band_name = band_name.replace(' ', '', 1)\n",
    "        raw_date = raw_date.replace(' @', '')\n",
    "\n",
    "        this_time = parse(raw_date)\n",
    "        date_string = '{:%b %d, %Y %-I:%M%p}'.format(this_time)\n",
    "\n",
    "        try:\n",
    "            showDict = {}\n",
    "            showDict['band'] = band_name\n",
    "            showDict['dateString'] = date_string\n",
    "            shows.append(showDict)\n",
    "\n",
    "        except:\n",
    "            print('Error: Toasted Monkey')\n",
    "    \n",
    "    #Save To json file\n",
    "    '''\n",
    "    '''\n",
    "    venDict = {}\n",
    "    venDict['venueName'] = venue_name\n",
    "    venDict['shows'] = shows\n",
    "\n",
    "    venue_array = [venDict]\n",
    "    finalDict = {}\n",
    "    finalDict['venue'] = venue_array\n",
    "\n",
    "    #Save To json file\n",
    "    save_path = '/Users/nathanhedgeman/Documents/Scrappers/Show Data'\n",
    "    file_name = venue_name + '.json'\n",
    "    complete_name = os.path.join(save_path, file_name)\n",
    "\n",
    "    file = open(complete_name, 'w')\n",
    "    file.write(json.dumps(finalDict, indent = 2))\n",
    "    file.close()\n",
    "    print(\"Complete!\")"
   ]
  },
  {
   "cell_type": "code",
   "execution_count": 4,
   "id": "1c86d487-c517-439c-bc31-b7e2b0a4f7fc",
   "metadata": {},
   "outputs": [
    {
     "name": "stderr",
     "output_type": "stream",
     "text": [
      "<ipython-input-3-308216da2a5d>:5: DeprecationWarning: executable_path has been deprecated, please pass in a Service object\n",
      "  driver = webdriver.Chrome(options=chrome_options, executable_path='/Users/nathanhedgeman/Documents/Scrappers/chromedriver')\n",
      "<ipython-input-3-308216da2a5d>:9: DeprecationWarning: find_element_by_* commands are deprecated. Please use find_element() instead\n",
      "  driver.find_element_by_xpath('/html/body/timely-calendar/div/div/div[3]/button').click()\n",
      "<ipython-input-3-308216da2a5d>:10: DeprecationWarning: find_element_by_* commands are deprecated. Please use find_element() instead\n",
      "  driver.find_element_by_xpath('//*[@id=\"cdk-overlay-0\"]/div/div/a[4]').click()\n"
     ]
    },
    {
     "name": "stdout",
     "output_type": "stream",
     "text": [
      "Larry Mott \n",
      "Dec 14, 2021 6:00PM\n",
      "Jason Parker Duo \n",
      "Dec 15, 2021 6:00PM\n",
      "Doug South Band \n",
      "Dec 16, 2021 6:00PM\n",
      "Magic \n",
      "Dec 17, 2021 6:00PM\n",
      "Big Brother Band \n",
      "Dec 18, 2021 1:30PM\n",
      "Phoenix \n",
      "Dec 18, 2021 6:00PM\n",
      "Mixed Signal \n",
      "Dec 19, 2021 1:00PM\n",
      "Casey Allen Band \n",
      "Dec 19, 2021 6:00PM\n",
      "Sarah Diamond \n",
      "Dec 20, 2021 6:00PM\n",
      "Brothers Gabriel \n",
      "Dec 21, 2021 6:00PM\n",
      "The Ordeal \n",
      "Dec 22, 2021 6:00PM\n",
      "Carlos & Joe \n",
      "Dec 23, 2021 6:00PM\n",
      "Scarlett Moon \n",
      "Dec 24, 2021 1:00PM\n",
      "Larry Mott \n",
      "Dec 25, 2021 4:00PM\n",
      "Bad Neighbors \n",
      "Dec 26, 2021 1:00PM\n",
      "Jeremy Thomas Duo \n",
      "Dec 26, 2021 6:00PM\n",
      "Larry Mott \n",
      "Dec 27, 2021 6:00PM\n",
      "Sarah Diamond \n",
      "Dec 27, 2021 6:00PM\n",
      "Skid Rodeo \n",
      "Dec 28, 2021 6:00PM\n",
      "Doug South Band \n",
      "Dec 30, 2021 6:00PM\n",
      "Billy Agans \n",
      "Dec 31, 2021 7:00PM\n",
      "Billy Agans \n",
      "Jan 05, 2021 7:00PM\n",
      "Carlos & Joe \n",
      "Jan 06, 2021 6:00PM\n",
      "Billy Agans \n",
      "Jan 12, 2021 7:00PM\n",
      "Doug South Band \n",
      "Jan 13, 2021 6:00PM\n",
      "Billy Agans \n",
      "Jan 15, 2021 7:00PM\n",
      "Larry Mott \n",
      "Jan 19, 2021 6:00PM\n",
      "Carlos & Joe \n",
      "Jan 20, 2021 6:00PM\n",
      "Jeremy Thomas Duo \n",
      "Jan 23, 2021 6:00PM\n",
      "Doug South Band \n",
      "Jan 27, 2021 6:00PM\n",
      "Complete!\n"
     ]
    }
   ],
   "source": [
    "run()"
   ]
  },
  {
   "cell_type": "code",
   "execution_count": 5,
   "id": "37516158",
   "metadata": {},
   "outputs": [
    {
     "name": "stdout",
     "output_type": "stream",
     "text": [
      "[{'band': 'Larry Mott ', 'dateString': 'Dec 14, 2021 6:00PM'}, {'band': 'Jason Parker Duo ', 'dateString': 'Dec 15, 2021 6:00PM'}, {'band': 'Doug South Band ', 'dateString': 'Dec 16, 2021 6:00PM'}, {'band': 'Magic ', 'dateString': 'Dec 17, 2021 6:00PM'}, {'band': 'Big Brother Band ', 'dateString': 'Dec 18, 2021 1:30PM'}, {'band': 'Phoenix ', 'dateString': 'Dec 18, 2021 6:00PM'}, {'band': 'Mixed Signal ', 'dateString': 'Dec 19, 2021 1:00PM'}, {'band': 'Casey Allen Band ', 'dateString': 'Dec 19, 2021 6:00PM'}, {'band': 'Sarah Diamond ', 'dateString': 'Dec 20, 2021 6:00PM'}, {'band': 'Brothers Gabriel ', 'dateString': 'Dec 21, 2021 6:00PM'}, {'band': 'The Ordeal ', 'dateString': 'Dec 22, 2021 6:00PM'}, {'band': 'Carlos & Joe ', 'dateString': 'Dec 23, 2021 6:00PM'}, {'band': 'Scarlett Moon ', 'dateString': 'Dec 24, 2021 1:00PM'}, {'band': 'Larry Mott ', 'dateString': 'Dec 25, 2021 4:00PM'}, {'band': 'Bad Neighbors ', 'dateString': 'Dec 26, 2021 1:00PM'}, {'band': 'Jeremy Thomas Duo ', 'dateString': 'Dec 26, 2021 6:00PM'}, {'band': 'Larry Mott ', 'dateString': 'Dec 27, 2021 6:00PM'}, {'band': 'Sarah Diamond ', 'dateString': 'Dec 27, 2021 6:00PM'}, {'band': 'Skid Rodeo ', 'dateString': 'Dec 28, 2021 6:00PM'}, {'band': 'Doug South Band ', 'dateString': 'Dec 30, 2021 6:00PM'}, {'band': 'Billy Agans ', 'dateString': 'Dec 31, 2021 7:00PM'}, {'band': 'Billy Agans ', 'dateString': 'Jan 05, 2021 7:00PM'}, {'band': 'Carlos & Joe ', 'dateString': 'Jan 06, 2021 6:00PM'}, {'band': 'Billy Agans ', 'dateString': 'Jan 12, 2021 7:00PM'}, {'band': 'Doug South Band ', 'dateString': 'Jan 13, 2021 6:00PM'}, {'band': 'Billy Agans ', 'dateString': 'Jan 15, 2021 7:00PM'}, {'band': 'Larry Mott ', 'dateString': 'Jan 19, 2021 6:00PM'}, {'band': 'Carlos & Joe ', 'dateString': 'Jan 20, 2021 6:00PM'}, {'band': 'Jeremy Thomas Duo ', 'dateString': 'Jan 23, 2021 6:00PM'}, {'band': 'Doug South Band ', 'dateString': 'Jan 27, 2021 6:00PM'}]\n"
     ]
    }
   ],
   "source": [
    "print(shows)"
   ]
  }
 ],
 "metadata": {
  "interpreter": {
   "hash": "53258a41d29b011a261b631d05e665c4bf68087cfc6dcd67900a11497b4e4907"
  },
  "kernelspec": {
   "display_name": "Python 3.8.8 64-bit (conda)",
   "name": "python3"
  },
  "language_info": {
   "codemirror_mode": {
    "name": "ipython",
    "version": 3
   },
   "file_extension": ".py",
   "mimetype": "text/x-python",
   "name": "python",
   "nbconvert_exporter": "python",
   "pygments_lexer": "ipython3",
   "version": "3.8.8"
  }
 },
 "nbformat": 4,
 "nbformat_minor": 5
}
